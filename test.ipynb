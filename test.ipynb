{
 "cells": [
  {
   "cell_type": "code",
   "execution_count": 1,
   "id": "d5676db7",
   "metadata": {},
   "outputs": [],
   "source": [
    "# import torch\n",
    "# import numpy as np\n",
    "# import random\n",
    "# seed = 45\n",
    "\n",
    "# random.seed(seed)\n",
    "# np.random.seed(seed)\n",
    "# torch.manual_seed(seed)\n",
    "# torch.cuda.manual_seed(seed)\n",
    "# torch.cuda.manual_seed_all(seed)\n",
    "# torch.backends.cudnn.deterministic = True\n",
    "# torch.backends.cudnn.deterministic = False\n",
    "\n",
    "import sys\n",
    "sys.path.append('./models')\n",
    "from models.BBSNet_model import BBSNetTransformerAttention\n",
    "from models.BBSNet_model import BBSNetChannelSpatialAttention\n",
    "from BBSNet_train import setup_gpu, get_model, get_data, main\n",
    "from BBSNet_test import test\n",
    "from utils import evaluate, draw_curve\n",
    "\n",
    "%load_ext autoreload\n",
    "%autoreload 2"
   ]
  },
  {
   "cell_type": "markdown",
   "id": "65abbfcb",
   "metadata": {},
   "source": [
    "# Train"
   ]
  },
  {
   "cell_type": "code",
   "execution_count": 2,
   "id": "d70c7f25",
   "metadata": {},
   "outputs": [
    {
     "name": "stdout",
     "output_type": "stream",
     "text": [
      "USE GPU 0\n",
      "load data...\n",
      "Start train...\n",
      "2025-08-26 16:02:25.861429 Epoch [001/002], Step [0001/1092], Loss1: 0.6840 Loss2: 0.7081\n",
      "2025-08-26 16:02:47.326195 Epoch [001/002], Step [0100/1092], Loss1: 0.2929 Loss2: 0.2676\n",
      "2025-08-26 16:03:09.036774 Epoch [001/002], Step [0200/1092], Loss1: 0.1693 Loss2: 0.2260\n",
      "2025-08-26 16:03:30.823782 Epoch [001/002], Step [0300/1092], Loss1: 0.2930 Loss2: 0.3648\n",
      "2025-08-26 16:03:52.657869 Epoch [001/002], Step [0400/1092], Loss1: 0.7598 Loss2: 0.3225\n",
      "2025-08-26 16:04:14.746342 Epoch [001/002], Step [0500/1092], Loss1: 0.2336 Loss2: 0.1564\n",
      "2025-08-26 16:04:36.709315 Epoch [001/002], Step [0600/1092], Loss1: 0.4029 Loss2: 0.2808\n",
      "2025-08-26 16:04:58.662373 Epoch [001/002], Step [0700/1092], Loss1: 0.3354 Loss2: 0.2683\n",
      "2025-08-26 16:05:20.598387 Epoch [001/002], Step [0800/1092], Loss1: 0.3810 Loss2: 0.2741\n",
      "2025-08-26 16:05:42.490124 Epoch [001/002], Step [0900/1092], Loss1: 0.3274 Loss2: 0.1527\n",
      "2025-08-26 16:06:04.484400 Epoch [001/002], Step [1000/1092], Loss1: 0.3635 Loss2: 0.1062\n",
      "2025-08-26 16:06:24.722615 Epoch [001/002], Step [1092/1092], Loss1: 0.2815 Loss2: 0.3457\n",
      "Epoch: 1 MAE: 0.13066276907920837 ####  bestMAE: 1 bestEpoch: 0\n"
     ]
    }
   ],
   "source": [
    "setup_gpu()\n",
    "model, optimizer, CE = get_model()\n",
    "train_loader, test_loader, total_step = get_data()\n",
    "main(optimizer, model, train_loader, test_loader, CE, total_step)"
   ]
  },
  {
   "cell_type": "markdown",
   "id": "4772a51d",
   "metadata": {},
   "source": [
    "# Use Trained Model"
   ]
  },
  {
   "cell_type": "markdown",
   "id": "aeffa333",
   "metadata": {},
   "source": [
    "I save the model using this code:\n",
    "torch.save(model.state_dict(), save_path +\n",
    "                           'BBSNet_epoch_best.pth')\n",
    "\n",
    "Now, after a long training period, I want to use it on my test data. So, how can I load this model?"
   ]
  },
  {
   "cell_type": "code",
   "execution_count": 3,
   "id": "74f98bce",
   "metadata": {},
   "outputs": [
    {
     "name": "stdout",
     "output_type": "stream",
     "text": [
      "Total parameters: 58502052\n",
      "Trainable parameters: 58502052\n",
      "Non-trainable parameters: 0\n"
     ]
    }
   ],
   "source": [
    "from models.BBSNet_model import BBSNetTransformerAttention\n",
    "\n",
    "model = BBSNetTransformerAttention()\n",
    "\n",
    "# assume your model is called `model`\n",
    "total_params = sum(p.numel() for p in model.parameters())\n",
    "trainable_params = sum(p.numel() for p in model.parameters() if p.requires_grad)\n",
    "\n",
    "print(f\"Total parameters: {total_params}\")\n",
    "print(f\"Trainable parameters: {trainable_params}\")\n",
    "print(f\"Non-trainable parameters: {total_params - trainable_params}\")\n"
   ]
  },
  {
   "cell_type": "code",
   "execution_count": 4,
   "id": "742812c3",
   "metadata": {},
   "outputs": [],
   "source": [
    "# test(method='bbsnet') "
   ]
  }
 ],
 "metadata": {
  "kernelspec": {
   "display_name": "pytorch",
   "language": "python",
   "name": "python3"
  },
  "language_info": {
   "codemirror_mode": {
    "name": "ipython",
    "version": 3
   },
   "file_extension": ".py",
   "mimetype": "text/x-python",
   "name": "python",
   "nbconvert_exporter": "python",
   "pygments_lexer": "ipython3",
   "version": "3.12.9"
  }
 },
 "nbformat": 4,
 "nbformat_minor": 5
}
