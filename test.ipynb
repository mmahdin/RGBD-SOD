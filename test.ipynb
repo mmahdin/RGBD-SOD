{
 "cells": [
  {
   "cell_type": "code",
   "execution_count": 1,
   "id": "d5676db7",
   "metadata": {},
   "outputs": [
    {
     "name": "stderr",
     "output_type": "stream",
     "text": [
      "/home/mahdi/Documents/pytorch/lib/python3.12/site-packages/tqdm/auto.py:21: TqdmWarning: IProgress not found. Please update jupyter and ipywidgets. See https://ipywidgets.readthedocs.io/en/stable/user_install.html\n",
      "  from .autonotebook import tqdm as notebook_tqdm\n"
     ]
    }
   ],
   "source": [
    "import sys\n",
    "sys.path.append('./models')\n",
    "from models.BBSNet_model import BBSNetTransformerAttention\n",
    "from models.BBSNet_model import BBSNetChannelSpatialAttention\n",
    "from BBSNet_train import setup_gpu, get_model, get_data, main\n",
    "from BBSNet_test import test\n",
    "from utils import evaluate, draw_curve\n",
    "\n",
    "%load_ext autoreload\n",
    "%autoreload 2"
   ]
  },
  {
   "cell_type": "code",
   "execution_count": 2,
   "id": "cc39963a",
   "metadata": {},
   "outputs": [],
   "source": [
    "# from models.RFNet import RFNet\n",
    "# import torch\n",
    "\n",
    "# rgb = torch.rand((2, 3, 352, 352)).cuda()\n",
    "# depth = torch.rand((2, 1, 352, 352)).cuda()\n",
    "# model = RFNet(32, 50).cuda()\n",
    "# l = model(rgb, depth)"
   ]
  },
  {
   "cell_type": "markdown",
   "id": "65abbfcb",
   "metadata": {},
   "source": [
    "# Train"
   ]
  },
  {
   "cell_type": "code",
   "execution_count": 3,
   "id": "d70c7f25",
   "metadata": {},
   "outputs": [
    {
     "name": "stdout",
     "output_type": "stream",
     "text": [
      "USE GPU 0\n"
     ]
    },
    {
     "name": "stderr",
     "output_type": "stream",
     "text": [
      "/home/mahdi/Documents/pytorch/lib/python3.12/site-packages/torch/functional.py:539: UserWarning: torch.meshgrid: in an upcoming release, it will be required to pass the indexing argument. (Triggered internally at /pytorch/aten/src/ATen/native/TensorShape.cpp:3637.)\n",
      "  return _VF.meshgrid(tensors, **kwargs)  # type: ignore[attr-defined]\n"
     ]
    },
    {
     "name": "stdout",
     "output_type": "stream",
     "text": [
      "load data...\n",
      "Start train...\n",
      "2025-08-30 02:36:21.878429 Epoch [001/002], Step [0001/1092], Loss1: 0.8269 Loss2: 0.8269\n",
      "2025-08-30 02:36:50.928118 Epoch [001/002], Step [0100/1092], Loss1: 0.3583 Loss2: 0.3583\n",
      "2025-08-30 02:37:20.316922 Epoch [001/002], Step [0200/1092], Loss1: 0.2064 Loss2: 0.2064\n",
      "2025-08-30 02:37:49.847660 Epoch [001/002], Step [0300/1092], Loss1: 0.2823 Loss2: 0.2823\n",
      "2025-08-30 02:38:19.493738 Epoch [001/002], Step [0400/1092], Loss1: 0.4098 Loss2: 0.4098\n",
      "2025-08-30 02:38:49.125092 Epoch [001/002], Step [0500/1092], Loss1: 0.1958 Loss2: 0.1958\n",
      "2025-08-30 02:39:18.793855 Epoch [001/002], Step [0600/1092], Loss1: 0.2728 Loss2: 0.2728\n",
      "2025-08-30 02:39:48.578315 Epoch [001/002], Step [0700/1092], Loss1: 0.2180 Loss2: 0.2180\n",
      "2025-08-30 02:40:18.314023 Epoch [001/002], Step [0800/1092], Loss1: 0.2029 Loss2: 0.2029\n",
      "2025-08-30 02:40:48.227467 Epoch [001/002], Step [0900/1092], Loss1: 0.1692 Loss2: 0.1692\n",
      "2025-08-30 02:41:18.018186 Epoch [001/002], Step [1000/1092], Loss1: 0.2441 Loss2: 0.2441\n",
      "2025-08-30 02:41:45.446363 Epoch [001/002], Step [1092/1092], Loss1: 0.3436 Loss2: 0.3436\n",
      "Epoch: 1 MAE: 0.15371203422546387 ####  bestMAE: 1 bestEpoch: 0\n"
     ]
    }
   ],
   "source": [
    "setup_gpu()\n",
    "model, optimizer, CE = get_model()\n",
    "train_loader, test_loader, total_step = get_data()\n",
    "main(optimizer, model, train_loader, test_loader, CE, total_step)"
   ]
  },
  {
   "cell_type": "markdown",
   "id": "4772a51d",
   "metadata": {},
   "source": [
    "# Use Trained Model"
   ]
  },
  {
   "cell_type": "markdown",
   "id": "aeffa333",
   "metadata": {},
   "source": [
    "I save the model using this code:\n",
    "torch.save(model.state_dict(), save_path +\n",
    "                           'BBSNet_epoch_best.pth')\n",
    "\n",
    "Now, after a long training period, I want to use it on my test data. So, how can I load this model?"
   ]
  },
  {
   "cell_type": "code",
   "execution_count": 4,
   "id": "74f98bce",
   "metadata": {},
   "outputs": [
    {
     "name": "stdout",
     "output_type": "stream",
     "text": [
      "Total parameters: 58007077\n",
      "Trainable parameters: 58007077\n",
      "Non-trainable parameters: 0\n"
     ]
    }
   ],
   "source": [
    "from models.BBSNet_model import BBSNetTransformerAttention\n",
    "\n",
    "model = BBSNetTransformerAttention()\n",
    "\n",
    "# assume your model is called `model`\n",
    "total_params = sum(p.numel() for p in model.parameters())\n",
    "trainable_params = sum(p.numel() for p in model.parameters() if p.requires_grad)\n",
    "\n",
    "print(f\"Total parameters: {total_params}\")\n",
    "print(f\"Trainable parameters: {trainable_params}\")\n",
    "print(f\"Non-trainable parameters: {total_params - trainable_params}\")\n"
   ]
  },
  {
   "cell_type": "code",
   "execution_count": 5,
   "id": "742812c3",
   "metadata": {},
   "outputs": [],
   "source": [
    "# test(method='bbsnet') "
   ]
  }
 ],
 "metadata": {
  "kernelspec": {
   "display_name": "pytorch",
   "language": "python",
   "name": "python3"
  },
  "language_info": {
   "codemirror_mode": {
    "name": "ipython",
    "version": 3
   },
   "file_extension": ".py",
   "mimetype": "text/x-python",
   "name": "python",
   "nbconvert_exporter": "python",
   "pygments_lexer": "ipython3",
   "version": "3.12.9"
  }
 },
 "nbformat": 4,
 "nbformat_minor": 5
}
