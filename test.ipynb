{
 "cells": [
  {
   "cell_type": "code",
   "execution_count": 1,
   "id": "d5676db7",
   "metadata": {},
   "outputs": [
    {
     "name": "stderr",
     "output_type": "stream",
     "text": [
      "/home/mahdi/Documents/pytorch/lib/python3.12/site-packages/tqdm/auto.py:21: TqdmWarning: IProgress not found. Please update jupyter and ipywidgets. See https://ipywidgets.readthedocs.io/en/stable/user_install.html\n",
      "  from .autonotebook import tqdm as notebook_tqdm\n",
      "/home/mahdi/Documents/pytorch/lib/python3.12/site-packages/timm/models/layers/__init__.py:48: FutureWarning: Importing from timm.models.layers is deprecated, please import via timm.layers\n",
      "  warnings.warn(f\"Importing from {__name__} is deprecated, please import via timm.layers\", FutureWarning)\n"
     ]
    }
   ],
   "source": [
    "import sys\n",
    "sys.path.append('./models')\n",
    "from models.BBSNet_model import BBSNetTransformerAttention\n",
    "from models.BBSNet_model import BBSNetChannelSpatialAttention\n",
    "from BBSNet_train import setup_gpu, get_model, get_data, main\n",
    "from BBSNet_test import test\n",
    "from utils import evaluate, draw_curve\n",
    "\n",
    "%load_ext autoreload\n",
    "%autoreload 2"
   ]
  },
  {
   "cell_type": "markdown",
   "id": "65abbfcb",
   "metadata": {},
   "source": [
    "# Train"
   ]
  },
  {
   "cell_type": "code",
   "execution_count": 2,
   "id": "d70c7f25",
   "metadata": {},
   "outputs": [
    {
     "name": "stdout",
     "output_type": "stream",
     "text": [
      "USE GPU 0\n"
     ]
    },
    {
     "name": "stderr",
     "output_type": "stream",
     "text": [
      "/home/mahdi/Documents/pytorch/lib/python3.12/site-packages/torch/functional.py:539: UserWarning: torch.meshgrid: in an upcoming release, it will be required to pass the indexing argument. (Triggered internally at /pytorch/aten/src/ATen/native/TensorShape.cpp:3637.)\n",
      "  return _VF.meshgrid(tensors, **kwargs)  # type: ignore[attr-defined]\n"
     ]
    },
    {
     "name": "stdout",
     "output_type": "stream",
     "text": [
      "load data...\n",
      "Start train...\n",
      "2025-08-26 21:13:50.219074 Epoch [001/002], Step [0001/2184], Loss1: 0.7026 Loss2: 0.7510\n",
      "2025-08-26 21:14:13.616246 Epoch [001/002], Step [0100/2184], Loss1: 0.5148 Loss2: 0.5685\n",
      "2025-08-26 21:14:37.435771 Epoch [001/002], Step [0200/2184], Loss1: 0.5136 Loss2: 0.4721\n",
      "2025-08-26 21:15:01.216914 Epoch [001/002], Step [0300/2184], Loss1: 0.6183 Loss2: 0.6079\n",
      "2025-08-26 21:15:25.025296 Epoch [001/002], Step [0400/2184], Loss1: 0.5213 Loss2: 0.3358\n",
      "2025-08-26 21:15:48.908063 Epoch [001/002], Step [0500/2184], Loss1: 0.5069 Loss2: 0.3886\n",
      "2025-08-26 21:16:12.785511 Epoch [001/002], Step [0600/2184], Loss1: 0.5095 Loss2: 0.7115\n",
      "2025-08-26 21:16:36.662799 Epoch [001/002], Step [0700/2184], Loss1: 0.5721 Loss2: 0.7537\n",
      "2025-08-26 21:17:00.562956 Epoch [001/002], Step [0800/2184], Loss1: 0.5253 Loss2: 0.3227\n",
      "2025-08-26 21:17:24.410847 Epoch [001/002], Step [0900/2184], Loss1: 0.6049 Loss2: 0.3965\n",
      "2025-08-26 21:17:48.337335 Epoch [001/002], Step [1000/2184], Loss1: 0.5074 Loss2: 0.2442\n",
      "2025-08-26 21:18:12.224416 Epoch [001/002], Step [1100/2184], Loss1: 0.4716 Loss2: 0.3357\n",
      "2025-08-26 21:18:36.077409 Epoch [001/002], Step [1200/2184], Loss1: 0.5427 Loss2: 0.2913\n",
      "2025-08-26 21:18:59.912151 Epoch [001/002], Step [1300/2184], Loss1: 0.4067 Loss2: 0.2098\n",
      "2025-08-26 21:19:23.735727 Epoch [001/002], Step [1400/2184], Loss1: 0.5300 Loss2: 0.3389\n",
      "2025-08-26 21:19:47.554491 Epoch [001/002], Step [1500/2184], Loss1: 0.4083 Loss2: 0.2190\n",
      "2025-08-26 21:20:11.460246 Epoch [001/002], Step [1600/2184], Loss1: 0.4760 Loss2: 0.5007\n",
      "2025-08-26 21:20:35.309773 Epoch [001/002], Step [1700/2184], Loss1: 0.2904 Loss2: 0.1421\n",
      "2025-08-26 21:20:59.128133 Epoch [001/002], Step [1800/2184], Loss1: 0.3452 Loss2: 0.2081\n",
      "2025-08-26 21:21:22.963736 Epoch [001/002], Step [1900/2184], Loss1: 0.3686 Loss2: 0.3665\n",
      "2025-08-26 21:21:46.826092 Epoch [001/002], Step [2000/2184], Loss1: 0.3303 Loss2: 0.1937\n",
      "2025-08-26 21:22:10.707175 Epoch [001/002], Step [2100/2184], Loss1: 0.3055 Loss2: 0.2615\n",
      "2025-08-26 21:22:30.773746 Epoch [001/002], Step [2184/2184], Loss1: 0.5633 Loss2: 0.6044\n",
      "Epoch: 1 MAE: 0.33097943663597107 ####  bestMAE: 1 bestEpoch: 0\n"
     ]
    }
   ],
   "source": [
    "setup_gpu()\n",
    "model, optimizer, CE = get_model()\n",
    "train_loader, test_loader, total_step = get_data()\n",
    "main(optimizer, model, train_loader, test_loader, CE, total_step)"
   ]
  },
  {
   "cell_type": "markdown",
   "id": "4772a51d",
   "metadata": {},
   "source": [
    "# Use Trained Model"
   ]
  },
  {
   "cell_type": "markdown",
   "id": "aeffa333",
   "metadata": {},
   "source": [
    "I save the model using this code:\n",
    "torch.save(model.state_dict(), save_path +\n",
    "                           'BBSNet_epoch_best.pth')\n",
    "\n",
    "Now, after a long training period, I want to use it on my test data. So, how can I load this model?"
   ]
  },
  {
   "cell_type": "code",
   "execution_count": 3,
   "id": "74f98bce",
   "metadata": {},
   "outputs": [
    {
     "name": "stdout",
     "output_type": "stream",
     "text": [
      "Total parameters: 380719614\n",
      "Trainable parameters: 380719614\n",
      "Non-trainable parameters: 0\n"
     ]
    }
   ],
   "source": [
    "from models.BBSNet_model import BBSNetSwin\n",
    "\n",
    "model = BBSNetSwin()\n",
    "\n",
    "# assume your model is called `model`\n",
    "total_params = sum(p.numel() for p in model.parameters())\n",
    "trainable_params = sum(p.numel() for p in model.parameters() if p.requires_grad)\n",
    "\n",
    "print(f\"Total parameters: {total_params}\")\n",
    "print(f\"Trainable parameters: {trainable_params}\")\n",
    "print(f\"Non-trainable parameters: {total_params - trainable_params}\")\n"
   ]
  },
  {
   "cell_type": "code",
   "execution_count": 4,
   "id": "742812c3",
   "metadata": {},
   "outputs": [],
   "source": [
    "# test(method='bbsnet') "
   ]
  }
 ],
 "metadata": {
  "kernelspec": {
   "display_name": "pytorch",
   "language": "python",
   "name": "python3"
  },
  "language_info": {
   "codemirror_mode": {
    "name": "ipython",
    "version": 3
   },
   "file_extension": ".py",
   "mimetype": "text/x-python",
   "name": "python",
   "nbconvert_exporter": "python",
   "pygments_lexer": "ipython3",
   "version": "3.12.9"
  }
 },
 "nbformat": 4,
 "nbformat_minor": 5
}
