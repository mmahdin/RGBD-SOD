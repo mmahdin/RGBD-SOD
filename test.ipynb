{
 "cells": [
  {
   "cell_type": "code",
   "execution_count": 3,
   "id": "d5676db7",
   "metadata": {},
   "outputs": [
    {
     "name": "stdout",
     "output_type": "stream",
     "text": [
      "The autoreload extension is already loaded. To reload it, use:\n",
      "  %reload_ext autoreload\n"
     ]
    }
   ],
   "source": [
    "from data import get_loader, test_dataset\n",
    "from options import opt\n",
    "import torch.backends.cudnn as cudnn\n",
    "import logging\n",
    "from tensorboardX import SummaryWriter\n",
    "from utils import clip_gradient, adjust_lr\n",
    "from models.BBSNet_model import BBSNet\n",
    "from torchvision.utils import make_grid\n",
    "from datetime import datetime\n",
    "import numpy as np\n",
    "import os\n",
    "import torch\n",
    "import torch.nn.functional as F\n",
    "import sys\n",
    "sys.path.append('./models')\n",
    "\n",
    "from BBSNet_train import *\n",
    "from utils import evaluate, draw_curve\n",
    "\n",
    "%load_ext autoreload\n",
    "%autoreload 2"
   ]
  },
  {
   "cell_type": "markdown",
   "id": "65abbfcb",
   "metadata": {},
   "source": [
    "# Train"
   ]
  },
  {
   "cell_type": "code",
   "execution_count": null,
   "id": "d70c7f25",
   "metadata": {},
   "outputs": [],
   "source": [
    "# setup_gpu()\n",
    "# model, optimizer, CE = get_model()\n",
    "# train_loader, test_loader, total_step = get_data()\n",
    "# main(optimizer, model, train_loader, test_loader, CE, total_step)"
   ]
  },
  {
   "cell_type": "markdown",
   "id": "4772a51d",
   "metadata": {},
   "source": [
    "# Use Trained Model"
   ]
  },
  {
   "cell_type": "code",
   "execution_count": null,
   "id": "555a392c",
   "metadata": {},
   "outputs": [],
   "source": []
  },
  {
   "cell_type": "code",
   "execution_count": 2,
   "id": "f414458c",
   "metadata": {},
   "outputs": [
    {
     "name": "stdout",
     "output_type": "stream",
     "text": [
      "Eval [Dataset_1] Dataset [Fmeasure] with [Method_1] Method.\n"
     ]
    },
    {
     "name": "stderr",
     "output_type": "stream",
     "text": [
      "100%|██████████| 16/16 [00:01<00:00,  8.98it/s]\n"
     ]
    },
    {
     "name": "stdout",
     "output_type": "stream",
     "text": [
      "\n",
      "\n",
      "Eval [Dataset_1] Dataset [MAE] with [Method_1] Method.\n"
     ]
    },
    {
     "name": "stderr",
     "output_type": "stream",
     "text": [
      "100%|██████████| 16/16 [00:00<00:00, 432.22it/s]\n"
     ]
    },
    {
     "name": "stdout",
     "output_type": "stream",
     "text": [
      "\n",
      "\n",
      "Eval [Dataset_1] Dataset [Smeasure] with [Method_1] Method.\n"
     ]
    },
    {
     "name": "stderr",
     "output_type": "stream",
     "text": [
      "100%|██████████| 16/16 [00:00<00:00, 179.78it/s]\n"
     ]
    },
    {
     "name": "stdout",
     "output_type": "stream",
     "text": [
      "\n",
      "\n",
      "Eval [Dataset_1] Dataset [Emeasure] with [Method_1] Method.\n"
     ]
    },
    {
     "name": "stderr",
     "output_type": "stream",
     "text": [
      "100%|██████████| 16/16 [00:00<00:00, 16.10it/s]\n"
     ]
    },
    {
     "name": "stdout",
     "output_type": "stream",
     "text": [
      "\n",
      "\n",
      "Eval [Dataset_1] Dataset [Fbw_measure] with [Method_1] Method.\n"
     ]
    },
    {
     "name": "stderr",
     "output_type": "stream",
     "text": [
      "100%|██████████| 16/16 [00:00<00:00, 51.90it/s]\n"
     ]
    },
    {
     "name": "stdout",
     "output_type": "stream",
     "text": [
      "\n",
      "\n",
      "[cost:3.2252s][Dataset_1 Dataset] [Method_1 Method] 0.0217 mae, 0.9218 max-fmeasure, 0.9017 mean-fmeasure, 0.8951 adp-fmeasure, 0.9737 max-Emeasure, 0.9646 mean-Emeasure, 0.9706 adp-Emeasure, 0.9262 S-measure_alpha05, 0.8753 Fbw-measure\n",
      "\n",
      "Eval [Dataset_1] Dataset [Fmeasure] with [Method_2] Method.\n"
     ]
    },
    {
     "name": "stderr",
     "output_type": "stream",
     "text": [
      "100%|██████████| 16/16 [00:00<00:00, 43.69it/s]\n"
     ]
    },
    {
     "name": "stdout",
     "output_type": "stream",
     "text": [
      "\n",
      "\n",
      "Eval [Dataset_1] Dataset [MAE] with [Method_2] Method.\n"
     ]
    },
    {
     "name": "stderr",
     "output_type": "stream",
     "text": [
      "100%|██████████| 16/16 [00:00<00:00, 307.06it/s]\n"
     ]
    },
    {
     "name": "stdout",
     "output_type": "stream",
     "text": [
      "\n",
      "\n",
      "Eval [Dataset_1] Dataset [Smeasure] with [Method_2] Method.\n"
     ]
    },
    {
     "name": "stderr",
     "output_type": "stream",
     "text": [
      "100%|██████████| 16/16 [00:00<00:00, 196.52it/s]\n"
     ]
    },
    {
     "name": "stdout",
     "output_type": "stream",
     "text": [
      "\n",
      "\n",
      "Eval [Dataset_1] Dataset [Emeasure] with [Method_2] Method.\n"
     ]
    },
    {
     "name": "stderr",
     "output_type": "stream",
     "text": [
      "100%|██████████| 16/16 [00:01<00:00, 15.73it/s]\n"
     ]
    },
    {
     "name": "stdout",
     "output_type": "stream",
     "text": [
      "\n",
      "\n",
      "Eval [Dataset_1] Dataset [Fbw_measure] with [Method_2] Method.\n"
     ]
    },
    {
     "name": "stderr",
     "output_type": "stream",
     "text": [
      "100%|██████████| 16/16 [00:00<00:00, 58.21it/s]\n"
     ]
    },
    {
     "name": "stdout",
     "output_type": "stream",
     "text": [
      "\n",
      "\n",
      "[cost:1.8111s][Dataset_1 Dataset] [Method_2 Method] 0.0205 mae, 0.9314 max-fmeasure, 0.9134 mean-fmeasure, 0.9077 adp-fmeasure, 0.9814 max-Emeasure, 0.9667 mean-Emeasure, 0.9763 adp-Emeasure, 0.9383 S-measure_alpha05, 0.8927 Fbw-measure\n",
      "\n",
      "Eval [Dataset_2] Dataset [Fmeasure] with [Method_1] Method.\n"
     ]
    },
    {
     "name": "stderr",
     "output_type": "stream",
     "text": [
      "100%|██████████| 16/16 [00:00<00:00, 23.72it/s]\n"
     ]
    },
    {
     "name": "stdout",
     "output_type": "stream",
     "text": [
      "\n",
      "\n",
      "Eval [Dataset_2] Dataset [MAE] with [Method_1] Method.\n"
     ]
    },
    {
     "name": "stderr",
     "output_type": "stream",
     "text": [
      "100%|██████████| 16/16 [00:00<00:00, 216.86it/s]\n"
     ]
    },
    {
     "name": "stdout",
     "output_type": "stream",
     "text": [
      "\n",
      "\n",
      "Eval [Dataset_2] Dataset [Smeasure] with [Method_1] Method.\n"
     ]
    },
    {
     "name": "stderr",
     "output_type": "stream",
     "text": [
      "100%|██████████| 16/16 [00:00<00:00, 106.95it/s]\n"
     ]
    },
    {
     "name": "stdout",
     "output_type": "stream",
     "text": [
      "\n",
      "\n",
      "Eval [Dataset_2] Dataset [Emeasure] with [Method_1] Method.\n"
     ]
    },
    {
     "name": "stderr",
     "output_type": "stream",
     "text": [
      "100%|██████████| 16/16 [00:02<00:00,  6.72it/s]\n"
     ]
    },
    {
     "name": "stdout",
     "output_type": "stream",
     "text": [
      "\n",
      "\n",
      "Eval [Dataset_2] Dataset [Fbw_measure] with [Method_1] Method.\n"
     ]
    },
    {
     "name": "stderr",
     "output_type": "stream",
     "text": [
      "100%|██████████| 16/16 [00:00<00:00, 22.40it/s]\n"
     ]
    },
    {
     "name": "stdout",
     "output_type": "stream",
     "text": [
      "\n",
      "\n",
      "[cost:4.0062s][Dataset_2 Dataset] [Method_1 Method] 0.0555 mae, 0.8689 max-fmeasure, 0.8571 mean-fmeasure, 0.8621 adp-fmeasure, 0.9237 max-Emeasure, 0.9074 mean-Emeasure, 0.9234 adp-Emeasure, 0.8581 S-measure_alpha05, 0.8449 Fbw-measure\n",
      "\n",
      "Eval [Dataset_2] Dataset [Fmeasure] with [Method_2] Method.\n"
     ]
    },
    {
     "name": "stderr",
     "output_type": "stream",
     "text": [
      "100%|██████████| 16/16 [00:00<00:00, 24.37it/s]\n"
     ]
    },
    {
     "name": "stdout",
     "output_type": "stream",
     "text": [
      "\n",
      "\n",
      "Eval [Dataset_2] Dataset [MAE] with [Method_2] Method.\n"
     ]
    },
    {
     "name": "stderr",
     "output_type": "stream",
     "text": [
      "100%|██████████| 16/16 [00:00<00:00, 151.91it/s]\n"
     ]
    },
    {
     "name": "stdout",
     "output_type": "stream",
     "text": [
      "\n",
      "\n",
      "Eval [Dataset_2] Dataset [Smeasure] with [Method_2] Method.\n"
     ]
    },
    {
     "name": "stderr",
     "output_type": "stream",
     "text": [
      "100%|██████████| 16/16 [00:00<00:00, 153.38it/s]\n"
     ]
    },
    {
     "name": "stdout",
     "output_type": "stream",
     "text": [
      "\n",
      "\n",
      "Eval [Dataset_2] Dataset [Emeasure] with [Method_2] Method.\n"
     ]
    },
    {
     "name": "stderr",
     "output_type": "stream",
     "text": [
      "100%|██████████| 16/16 [00:02<00:00,  6.89it/s]\n"
     ]
    },
    {
     "name": "stdout",
     "output_type": "stream",
     "text": [
      "\n",
      "\n",
      "Eval [Dataset_2] Dataset [Fbw_measure] with [Method_2] Method.\n"
     ]
    },
    {
     "name": "stderr",
     "output_type": "stream",
     "text": [
      "100%|██████████| 16/16 [00:00<00:00, 22.67it/s]"
     ]
    },
    {
     "name": "stdout",
     "output_type": "stream",
     "text": [
      "\n",
      "\n",
      "[cost:3.9065s][Dataset_2 Dataset] [Method_2 Method] 0.0435 mae, 0.8927 max-fmeasure, 0.8842 mean-fmeasure, 0.8891 adp-fmeasure, 0.9542 max-Emeasure, 0.9456 mean-Emeasure, 0.9523 adp-Emeasure, 0.8939 S-measure_alpha05, 0.8729 Fbw-measure\n",
      "\n"
     ]
    },
    {
     "name": "stderr",
     "output_type": "stream",
     "text": [
      "\n"
     ]
    }
   ],
   "source": [
    "evaluate()"
   ]
  },
  {
   "cell_type": "code",
   "execution_count": 4,
   "id": "e68cf3fe",
   "metadata": {},
   "outputs": [
    {
     "data": {
      "image/png": "[encoded data removed]",
      "text/plain": [
       "<Figure size 640x480 with 1 Axes>"
      ]
     },
     "metadata": {},
     "output_type": "display_data"
    }
   ],
   "source": [
    "draw_curve()"
   ]
  }
 ],
 "metadata": {
  "kernelspec": {
   "display_name": "pytorch",
   "language": "python",
   "name": "python3"
  },
  "language_info": {
   "codemirror_mode": {
    "name": "ipython",
    "version": 3
   },
   "file_extension": ".py",
   "mimetype": "text/x-python",
   "name": "python",
   "nbconvert_exporter": "python",
   "pygments_lexer": "ipython3",
   "version": "3.12.9"
  }
 },
 "nbformat": 4,
 "nbformat_minor": 5
}
