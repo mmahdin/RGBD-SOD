{
 "cells": [
  {
   "cell_type": "code",
   "execution_count": null,
   "id": "d5676db7",
   "metadata": {},
   "outputs": [],
   "source": [
    "from data import get_loader, test_dataset\n",
    "from options import opt\n",
    "import torch.backends.cudnn as cudnn\n",
    "import logging\n",
    "from tensorboardX import SummaryWriter\n",
    "from utils import clip_gradient, adjust_lr\n",
    "from models.BBSNet_model import BBSNet\n",
    "from torchvision.utils import make_grid\n",
    "from datetime import datetime\n",
    "import numpy as np\n",
    "import os\n",
    "import torch\n",
    "import torch.nn.functional as F\n",
    "import sys\n",
    "sys.path.append('./models')\n",
    "\n",
    "from BBSNet_train import *\n",
    "\n",
    "%load_ext autoreload\n",
    "%autoreload 2"
   ]
  },
  {
   "cell_type": "code",
   "execution_count": null,
   "id": "d70c7f25",
   "metadata": {},
   "outputs": [],
   "source": [
    "setup_gpu()\n",
    "model, optimizer, CE = get_model()\n",
    "train_loader, test_loader, total_step = get_data()\n",
    "main(optimizer, model, train_loader, test_loader, save_path)"
   ]
  }
 ],
 "metadata": {
  "kernelspec": {
   "display_name": "pytorch",
   "language": "python",
   "name": "python3"
  },
  "language_info": {
   "codemirror_mode": {
    "name": "ipython",
    "version": 3
   },
   "file_extension": ".py",
   "mimetype": "text/x-python",
   "name": "python",
   "nbconvert_exporter": "python",
   "pygments_lexer": "ipython3",
   "version": "3.12.9"
  }
 },
 "nbformat": 4,
 "nbformat_minor": 5
}
