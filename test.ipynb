{
 "cells": [
  {
   "cell_type": "code",
   "execution_count": null,
   "id": "d5676db7",
   "metadata": {},
   "outputs": [],
   "source": [
    "import sys\n",
    "sys.path.append('./models')\n",
    "from models.BBSNet_model import BBSNetTransformerAttention\n",
    "from models.BBSNet_model import BBSNetChannelSpatialAttention\n",
    "from BBSNet_train import setup_gpu, get_model, get_data, main\n",
    "from BBSNet_test import test\n",
    "from utils import evaluate, draw_curve\n",
    "\n",
    "%load_ext autoreload\n",
    "%autoreload 2"
   ]
  },
  {
   "cell_type": "code",
   "execution_count": null,
   "id": "cc39963a",
   "metadata": {},
   "outputs": [],
   "source": [
    "# from models.RFNet import RFNet\n",
    "# import torch\n",
    "\n",
    "# rgb = torch.rand((2, 3, 352, 352)).cuda()\n",
    "# depth = torch.rand((2, 1, 352, 352)).cuda()\n",
    "# model = RFNet(32, 50).cuda()\n",
    "# l = model(rgb, depth)"
   ]
  },
  {
   "cell_type": "markdown",
   "id": "65abbfcb",
   "metadata": {},
   "source": [
    "# Train"
   ]
  },
  {
   "cell_type": "code",
   "execution_count": null,
   "id": "d70c7f25",
   "metadata": {},
   "outputs": [],
   "source": [
    "setup_gpu()\n",
    "model, optimizer, CE = get_model()\n",
    "train_loader, test_loader, total_step = get_data()\n",
    "main(optimizer, model, train_loader, test_loader, CE, total_step)"
   ]
  },
  {
   "cell_type": "markdown",
   "id": "4772a51d",
   "metadata": {},
   "source": [
    "# Use Trained Model"
   ]
  },
  {
   "cell_type": "markdown",
   "id": "aeffa333",
   "metadata": {},
   "source": [
    "I save the model using this code:\n",
    "torch.save(model.state_dict(), save_path +\n",
    "                           'BBSNet_epoch_best.pth')\n",
    "\n",
    "Now, after a long training period, I want to use it on my test data. So, how can I load this model?"
   ]
  },
  {
   "cell_type": "code",
   "execution_count": 15,
   "id": "74f98bce",
   "metadata": {},
   "outputs": [
    {
     "name": "stdout",
     "output_type": "stream",
     "text": [
      "Total parameters: 60894418\n",
      "Trainable parameters: 60894418\n",
      "Non-trainable parameters: 0\n"
     ]
    }
   ],
   "source": [
    "from models.BBSNet_model import BBSNetTransformerAttention\n",
    "\n",
    "model = BBSNetTransformerAttention()\n",
    "\n",
    "# assume your model is called `model`\n",
    "total_params = sum(p.numel() for p in model.parameters())\n",
    "trainable_params = sum(p.numel() for p in model.parameters() if p.requires_grad)\n",
    "\n",
    "print(f\"Total parameters: {total_params}\")\n",
    "print(f\"Trainable parameters: {trainable_params}\")\n",
    "print(f\"Non-trainable parameters: {total_params - trainable_params}\")\n"
   ]
  },
  {
   "cell_type": "code",
   "execution_count": null,
   "id": "742812c3",
   "metadata": {},
   "outputs": [],
   "source": [
    "# test(method='bbsnet') "
   ]
  },
  {
   "cell_type": "code",
   "execution_count": null,
   "id": "26b17302",
   "metadata": {},
   "outputs": [
    {
     "name": "stdout",
     "output_type": "stream",
     "text": [
      "Diagram generated as 'channel_attention_bw.png'\n"
     ]
    }
   ],
   "source": [
    "from graphviz import Digraph\n",
    "\n",
    "# Create a directed graph with horizontal layout\n",
    "dot = Digraph()\n",
    "dot.attr(rankdir='LR', dpi='300', fontname='Arial', nodesep='0.25', ranksep='0.35')  \n",
    "dot.attr('node', shape='box', style='rounded,filled', fontname='Arial',\n",
    "         height='0.5', width='1.2', fontsize='12', penwidth='1.2', color='black')\n",
    "\n",
    "# Define nodes (clear & consistent labels)\n",
    "dot.node('x', 'Input\\n[B, C, H, W]', fillcolor='lightblue')\n",
    "dot.node('max_pool', 'Global AvgPool\\n[B, C, 1, 1]', fillcolor='lightgrey')\n",
    "dot.node('fc1', '1×1 Conv\\nC → C/16', fillcolor='orange')\n",
    "dot.node('relu1', 'ReLU', fillcolor='darkseagreen2')\n",
    "dot.node('fc2', '1×1 Conv\\nC/16 → C', fillcolor='orange')\n",
    "dot.node('sigmoid', 'Sigmoid', fillcolor='plum1')\n",
    "dot.node('out', 'Output\\n[B, C, 1, 1]', fillcolor='lightcoral')\n",
    "\n",
    "# Connect nodes (short, clear arrows)\n",
    "dot.edge('x', 'max_pool')\n",
    "dot.edge('max_pool', 'fc1')\n",
    "dot.edge('fc1', 'relu1')\n",
    "dot.edge('relu1', 'fc2')\n",
    "dot.edge('fc2', 'sigmoid')\n",
    "dot.edge('sigmoid', 'out')\n",
    "\n",
    "# Title at top\n",
    "dot.attr(labelloc='t',fontsize='14', fontname='Arial Bold')\n",
    "\n",
    "# Render and save\n",
    "dot.render('channel_attn', format='png', cleanup=True)\n",
    "print(\"Diagram generated as 'channel_attention_clean.png'\")\n",
    "\n"
   ]
  },
  {
   "cell_type": "code",
   "execution_count": 33,
   "id": "d458a4ac",
   "metadata": {},
   "outputs": [
    {
     "name": "stdout",
     "output_type": "stream",
     "text": [
      "Diagram generated as 'spatial_attention_clean.png'\n"
     ]
    }
   ],
   "source": [
    "from graphviz import Digraph\n",
    "\n",
    "# Create a directed graph with horizontal layout\n",
    "dot = Digraph()\n",
    "dot.attr(rankdir='LR', dpi='300', fontname='Arial', nodesep='0.25', ranksep='0.35')\n",
    "dot.attr('node', shape='box', style='rounded,filled', fontname='Arial',\n",
    "         height='0.5', width='1.2', fontsize='12', penwidth='1.2', color='black')\n",
    "\n",
    "# Nodes with consistent labels and colors\n",
    "dot.node('x', 'Input\\n[B, C, H, W]', fillcolor='lightblue')\n",
    "dot.node('max_pool', 'Max Pool\\nChannel-wise\\n[B, 1, H, W]', fillcolor='lightgrey')\n",
    "dot.node('conv', 'Conv2d\\n1→1, k=7', fillcolor='orange')\n",
    "dot.node('sigmoid', 'Sigmoid', fillcolor='plum1')\n",
    "dot.node('out', 'Output\\n[B, 1, H, W]', fillcolor='lightcoral')\n",
    "\n",
    "# Edges\n",
    "dot.edge('x', 'max_pool')\n",
    "dot.edge('max_pool', 'conv')\n",
    "dot.edge('conv', 'sigmoid')\n",
    "dot.edge('sigmoid', 'out')\n",
    "\n",
    "# Title\n",
    "dot.attr(labelloc='t',  fontsize='14', fontname='Arial Bold')\n",
    "\n",
    "# Render and save\n",
    "dot.render('spatial_attn', format='png', cleanup=True)\n",
    "print(\"Diagram generated as 'spatial_attention_clean.png'\")\n"
   ]
  }
 ],
 "metadata": {
  "kernelspec": {
   "display_name": "pytorch",
   "language": "python",
   "name": "python3"
  },
  "language_info": {
   "codemirror_mode": {
    "name": "ipython",
    "version": 3
   },
   "file_extension": ".py",
   "mimetype": "text/x-python",
   "name": "python",
   "nbconvert_exporter": "python",
   "pygments_lexer": "ipython3",
   "version": "3.12.9"
  }
 },
 "nbformat": 4,
 "nbformat_minor": 5
}
