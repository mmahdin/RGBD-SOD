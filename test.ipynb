{
 "cells": [
  {
   "cell_type": "code",
   "execution_count": 1,
   "id": "d5676db7",
   "metadata": {},
   "outputs": [
    {
     "name": "stderr",
     "output_type": "stream",
     "text": [
      "/home/mahdi/Documents/pytorch/lib/python3.12/site-packages/tqdm/auto.py:21: TqdmWarning: IProgress not found. Please update jupyter and ipywidgets. See https://ipywidgets.readthedocs.io/en/stable/user_install.html\n",
      "  from .autonotebook import tqdm as notebook_tqdm\n"
     ]
    }
   ],
   "source": [
    "import sys\n",
    "sys.path.append('./models')\n",
    "from models.BBSNet_model import BBSNetTransformerAttention\n",
    "from models.BBSNet_model import BBSNetChannelSpatialAttention\n",
    "from BBSNet_train import setup_gpu, get_model, get_data, main\n",
    "from BBSNet_test import test\n",
    "from utils import evaluate, draw_curve\n",
    "\n",
    "%load_ext autoreload\n",
    "%autoreload 2"
   ]
  },
  {
   "cell_type": "markdown",
   "id": "65abbfcb",
   "metadata": {},
   "source": [
    "# Train"
   ]
  },
  {
   "cell_type": "code",
   "execution_count": 2,
   "id": "d70c7f25",
   "metadata": {},
   "outputs": [
    {
     "name": "stdout",
     "output_type": "stream",
     "text": [
      "USE GPU 0\n"
     ]
    },
    {
     "name": "stderr",
     "output_type": "stream",
     "text": [
      "/home/mahdi/Documents/pytorch/lib/python3.12/site-packages/torch/functional.py:539: UserWarning: torch.meshgrid: in an upcoming release, it will be required to pass the indexing argument. (Triggered internally at /pytorch/aten/src/ATen/native/TensorShape.cpp:3637.)\n",
      "  return _VF.meshgrid(tensors, **kwargs)  # type: ignore[attr-defined]\n"
     ]
    },
    {
     "name": "stdout",
     "output_type": "stream",
     "text": [
      "load data...\n",
      "Start train...\n",
      "2025-08-28 01:12:29.286139 Epoch [001/002], Step [0001/1092], Loss1: 0.7062 Loss2: 0.6847\n",
      "2025-08-28 01:12:50.702722 Epoch [001/002], Step [0100/1092], Loss1: 0.4431 Loss2: 0.3250\n",
      "2025-08-28 01:13:12.412272 Epoch [001/002], Step [0200/1092], Loss1: 0.1512 Loss2: 0.2336\n",
      "2025-08-28 01:13:34.178715 Epoch [001/002], Step [0300/1092], Loss1: 0.3123 Loss2: 0.4368\n",
      "2025-08-28 01:13:56.045793 Epoch [001/002], Step [0400/1092], Loss1: 0.9203 Loss2: 0.3998\n",
      "2025-08-28 01:14:17.860297 Epoch [001/002], Step [0500/1092], Loss1: 0.2675 Loss2: 0.1463\n",
      "2025-08-28 01:14:39.661542 Epoch [001/002], Step [0600/1092], Loss1: 0.2903 Loss2: 0.2493\n",
      "2025-08-28 01:15:01.494023 Epoch [001/002], Step [0700/1092], Loss1: 0.3310 Loss2: 0.2097\n",
      "2025-08-28 01:15:23.346722 Epoch [001/002], Step [0800/1092], Loss1: 0.2508 Loss2: 0.1959\n",
      "2025-08-28 01:15:45.127962 Epoch [001/002], Step [0900/1092], Loss1: 0.3667 Loss2: 0.3072\n",
      "2025-08-28 01:16:06.937059 Epoch [001/002], Step [1000/1092], Loss1: 0.4572 Loss2: 0.1282\n",
      "2025-08-28 01:16:26.999645 Epoch [001/002], Step [1092/1092], Loss1: 0.2297 Loss2: 0.2999\n",
      "Epoch: 1 MAE: 0.13945437967777252 ####  bestMAE: 1 bestEpoch: 0\n"
     ]
    }
   ],
   "source": [
    "setup_gpu()\n",
    "model, optimizer, CE = get_model()\n",
    "train_loader, test_loader, total_step = get_data()\n",
    "main(optimizer, model, train_loader, test_loader, CE, total_step)"
   ]
  },
  {
   "cell_type": "markdown",
   "id": "4772a51d",
   "metadata": {},
   "source": [
    "# Use Trained Model"
   ]
  },
  {
   "cell_type": "markdown",
   "id": "aeffa333",
   "metadata": {},
   "source": [
    "I save the model using this code:\n",
    "torch.save(model.state_dict(), save_path +\n",
    "                           'BBSNet_epoch_best.pth')\n",
    "\n",
    "Now, after a long training period, I want to use it on my test data. So, how can I load this model?"
   ]
  },
  {
   "cell_type": "code",
   "execution_count": 3,
   "id": "74f98bce",
   "metadata": {},
   "outputs": [
    {
     "ename": "ImportError",
     "evalue": "cannot import name 'BBSNetSwin' from 'models.BBSNet_model' (/home/mahdi/Documents/bach_prj/repo/BBS-Net/models/BBSNet_model.py)",
     "output_type": "error",
     "traceback": [
      "\u001b[31m---------------------------------------------------------------------------\u001b[39m",
      "\u001b[31mImportError\u001b[39m                               Traceback (most recent call last)",
      "\u001b[36mCell\u001b[39m\u001b[36m \u001b[39m\u001b[32mIn[3]\u001b[39m\u001b[32m, line 1\u001b[39m\n\u001b[32m----> \u001b[39m\u001b[32m1\u001b[39m \u001b[38;5;28;01mfrom\u001b[39;00m\u001b[38;5;250m \u001b[39m\u001b[34;01mmodels\u001b[39;00m\u001b[34;01m.\u001b[39;00m\u001b[34;01mBBSNet_model\u001b[39;00m\u001b[38;5;250m \u001b[39m\u001b[38;5;28;01mimport\u001b[39;00m BBSNetSwin\n\u001b[32m      3\u001b[39m model = BBSNetSwin()\n\u001b[32m      5\u001b[39m \u001b[38;5;66;03m# assume your model is called `model`\u001b[39;00m\n",
      "\u001b[31mImportError\u001b[39m: cannot import name 'BBSNetSwin' from 'models.BBSNet_model' (/home/mahdi/Documents/bach_prj/repo/BBS-Net/models/BBSNet_model.py)"
     ]
    }
   ],
   "source": [
    "from models.BBSNet_model import BBSNetSwin\n",
    "\n",
    "model = BBSNetSwin()\n",
    "\n",
    "# assume your model is called `model`\n",
    "total_params = sum(p.numel() for p in model.parameters())\n",
    "trainable_params = sum(p.numel() for p in model.parameters() if p.requires_grad)\n",
    "\n",
    "print(f\"Total parameters: {total_params}\")\n",
    "print(f\"Trainable parameters: {trainable_params}\")\n",
    "print(f\"Non-trainable parameters: {total_params - trainable_params}\")\n"
   ]
  },
  {
   "cell_type": "code",
   "execution_count": null,
   "id": "742812c3",
   "metadata": {},
   "outputs": [],
   "source": [
    "# test(method='bbsnet') "
   ]
  }
 ],
 "metadata": {
  "kernelspec": {
   "display_name": "pytorch",
   "language": "python",
   "name": "python3"
  },
  "language_info": {
   "codemirror_mode": {
    "name": "ipython",
    "version": 3
   },
   "file_extension": ".py",
   "mimetype": "text/x-python",
   "name": "python",
   "nbconvert_exporter": "python",
   "pygments_lexer": "ipython3",
   "version": "3.12.9"
  }
 },
 "nbformat": 4,
 "nbformat_minor": 5
}
