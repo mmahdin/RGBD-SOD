{
 "cells": [
  {
   "cell_type": "code",
   "execution_count": 1,
   "id": "d5676db7",
   "metadata": {},
   "outputs": [
    {
     "name": "stderr",
     "output_type": "stream",
     "text": [
      "/home/mahdi/Documents/pytorch/lib/python3.12/site-packages/tqdm/auto.py:21: TqdmWarning: IProgress not found. Please update jupyter and ipywidgets. See https://ipywidgets.readthedocs.io/en/stable/user_install.html\n",
      "  from .autonotebook import tqdm as notebook_tqdm\n"
     ]
    }
   ],
   "source": [
    "import sys\n",
    "sys.path.append('./models')\n",
    "from models.BBSNet_model import BBSNetTransformerAttention\n",
    "from models.BBSNet_model import BBSNetChannelSpatialAttention\n",
    "from BBSNet_train import setup_gpu, get_model, get_data, main\n",
    "from BBSNet_test import test\n",
    "from utils import evaluate, draw_curve\n",
    "\n",
    "%load_ext autoreload\n",
    "%autoreload 2"
   ]
  },
  {
   "cell_type": "markdown",
   "id": "65abbfcb",
   "metadata": {},
   "source": [
    "# Train"
   ]
  },
  {
   "cell_type": "code",
   "execution_count": 2,
   "id": "d70c7f25",
   "metadata": {},
   "outputs": [
    {
     "name": "stdout",
     "output_type": "stream",
     "text": [
      "USE GPU 0\n"
     ]
    },
    {
     "name": "stderr",
     "output_type": "stream",
     "text": [
      "/home/mahdi/Documents/pytorch/lib/python3.12/site-packages/torch/functional.py:539: UserWarning: torch.meshgrid: in an upcoming release, it will be required to pass the indexing argument. (Triggered internally at /pytorch/aten/src/ATen/native/TensorShape.cpp:3637.)\n",
      "  return _VF.meshgrid(tensors, **kwargs)  # type: ignore[attr-defined]\n"
     ]
    },
    {
     "name": "stdout",
     "output_type": "stream",
     "text": [
      "load data...\n",
      "Start train...\n",
      "2025-08-28 15:12:05.738241 Epoch [001/002], Step [0001/1092], Loss1: 0.7559 Loss2: 0.7166\n",
      "2025-08-28 15:12:30.874281 Epoch [001/002], Step [0100/1092], Loss1: 0.3483 Loss2: 0.3614\n",
      "2025-08-28 15:12:56.446937 Epoch [001/002], Step [0200/1092], Loss1: 0.3175 Loss2: 0.3154\n",
      "2025-08-28 15:13:21.940774 Epoch [001/002], Step [0300/1092], Loss1: 0.3172 Loss2: 0.4440\n",
      "2025-08-28 15:13:47.516495 Epoch [001/002], Step [0400/1092], Loss1: 1.2923 Loss2: 0.3094\n",
      "2025-08-28 15:14:13.170947 Epoch [001/002], Step [0500/1092], Loss1: 0.1993 Loss2: 0.1842\n",
      "2025-08-28 15:14:38.759123 Epoch [001/002], Step [0600/1092], Loss1: 0.2852 Loss2: 0.2829\n",
      "2025-08-28 15:15:04.363423 Epoch [001/002], Step [0700/1092], Loss1: 0.3310 Loss2: 0.2249\n",
      "2025-08-28 15:15:29.930786 Epoch [001/002], Step [0800/1092], Loss1: 0.3874 Loss2: 0.3382\n",
      "2025-08-28 15:15:55.575119 Epoch [001/002], Step [0900/1092], Loss1: 0.2494 Loss2: 0.2755\n",
      "2025-08-28 15:16:21.171736 Epoch [001/002], Step [1000/1092], Loss1: 0.4174 Loss2: 0.2239\n",
      "2025-08-28 15:16:44.724766 Epoch [001/002], Step [1092/1092], Loss1: 0.3065 Loss2: 0.5365\n",
      "Epoch: 1 MAE: 0.20777104794979095 ####  bestMAE: 1 bestEpoch: 0\n"
     ]
    }
   ],
   "source": [
    "setup_gpu()\n",
    "model, optimizer, CE = get_model()\n",
    "train_loader, test_loader, total_step = get_data()\n",
    "main(optimizer, model, train_loader, test_loader, CE, total_step)"
   ]
  },
  {
   "cell_type": "markdown",
   "id": "4772a51d",
   "metadata": {},
   "source": [
    "# Use Trained Model"
   ]
  },
  {
   "cell_type": "markdown",
   "id": "aeffa333",
   "metadata": {},
   "source": [
    "I save the model using this code:\n",
    "torch.save(model.state_dict(), save_path +\n",
    "                           'BBSNet_epoch_best.pth')\n",
    "\n",
    "Now, after a long training period, I want to use it on my test data. So, how can I load this model?"
   ]
  },
  {
   "cell_type": "code",
   "execution_count": 3,
   "id": "74f98bce",
   "metadata": {},
   "outputs": [
    {
     "ename": "ImportError",
     "evalue": "cannot import name 'BBSNetSwin' from 'models.BBSNet_model' (/home/mahdi/Documents/bach_prj/repo/BBS-Net/models/BBSNet_model.py)",
     "output_type": "error",
     "traceback": [
      "\u001b[31m---------------------------------------------------------------------------\u001b[39m",
      "\u001b[31mImportError\u001b[39m                               Traceback (most recent call last)",
      "\u001b[36mCell\u001b[39m\u001b[36m \u001b[39m\u001b[32mIn[3]\u001b[39m\u001b[32m, line 1\u001b[39m\n\u001b[32m----> \u001b[39m\u001b[32m1\u001b[39m \u001b[38;5;28;01mfrom\u001b[39;00m\u001b[38;5;250m \u001b[39m\u001b[34;01mmodels\u001b[39;00m\u001b[34;01m.\u001b[39;00m\u001b[34;01mBBSNet_model\u001b[39;00m\u001b[38;5;250m \u001b[39m\u001b[38;5;28;01mimport\u001b[39;00m BBSNetSwin\n\u001b[32m      3\u001b[39m model = BBSNetSwin()\n\u001b[32m      5\u001b[39m \u001b[38;5;66;03m# assume your model is called `model`\u001b[39;00m\n",
      "\u001b[31mImportError\u001b[39m: cannot import name 'BBSNetSwin' from 'models.BBSNet_model' (/home/mahdi/Documents/bach_prj/repo/BBS-Net/models/BBSNet_model.py)"
     ]
    }
   ],
   "source": [
    "from models.BBSNet_model import BBSNetSwin\n",
    "\n",
    "model = BBSNetSwin()\n",
    "\n",
    "# assume your model is called `model`\n",
    "total_params = sum(p.numel() for p in model.parameters())\n",
    "trainable_params = sum(p.numel() for p in model.parameters() if p.requires_grad)\n",
    "\n",
    "print(f\"Total parameters: {total_params}\")\n",
    "print(f\"Trainable parameters: {trainable_params}\")\n",
    "print(f\"Non-trainable parameters: {total_params - trainable_params}\")\n"
   ]
  },
  {
   "cell_type": "code",
   "execution_count": null,
   "id": "742812c3",
   "metadata": {},
   "outputs": [],
   "source": [
    "# test(method='bbsnet') "
   ]
  }
 ],
 "metadata": {
  "kernelspec": {
   "display_name": "pytorch",
   "language": "python",
   "name": "python3"
  },
  "language_info": {
   "codemirror_mode": {
    "name": "ipython",
    "version": 3
   },
   "file_extension": ".py",
   "mimetype": "text/x-python",
   "name": "python",
   "nbconvert_exporter": "python",
   "pygments_lexer": "ipython3",
   "version": "3.12.9"
  }
 },
 "nbformat": 4,
 "nbformat_minor": 5
}
