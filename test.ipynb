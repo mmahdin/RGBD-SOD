{
 "cells": [
  {
   "cell_type": "code",
   "execution_count": 1,
   "id": "d5676db7",
   "metadata": {},
   "outputs": [
    {
     "name": "stderr",
     "output_type": "stream",
     "text": [
      "/home/mahdi/Documents/pytorch/lib/python3.12/site-packages/tqdm/auto.py:21: TqdmWarning: IProgress not found. Please update jupyter and ipywidgets. See https://ipywidgets.readthedocs.io/en/stable/user_install.html\n",
      "  from .autonotebook import tqdm as notebook_tqdm\n"
     ]
    }
   ],
   "source": [
    "import sys\n",
    "sys.path.append('./models')\n",
    "from models.BBSNet_model import BBSNetTransformerAttention\n",
    "from models.BBSNet_model import BBSNetChannelSpatialAttention\n",
    "from BBSNet_train import setup_gpu, get_model, get_data, main\n",
    "from BBSNet_test import test\n",
    "from utils import evaluate, draw_curve\n",
    "\n",
    "%load_ext autoreload\n",
    "%autoreload 2"
   ]
  },
  {
   "cell_type": "markdown",
   "id": "65abbfcb",
   "metadata": {},
   "source": [
    "# Train"
   ]
  },
  {
   "cell_type": "code",
   "execution_count": 2,
   "id": "d70c7f25",
   "metadata": {},
   "outputs": [
    {
     "name": "stdout",
     "output_type": "stream",
     "text": [
      "USE GPU 0\n",
      "load data...\n",
      "Start train...\n",
      "2025-08-29 03:16:25.325043 Epoch [001/002], Step [0001/1092], Loss1: 0.7557 Loss2: 0.7557\n",
      "2025-08-29 03:16:41.478657 Epoch [001/002], Step [0100/1092], Loss1: 0.4247 Loss2: 0.4247\n",
      "2025-08-29 03:16:57.844583 Epoch [001/002], Step [0200/1092], Loss1: 0.2735 Loss2: 0.2735\n",
      "2025-08-29 03:17:14.239961 Epoch [001/002], Step [0300/1092], Loss1: 0.3655 Loss2: 0.3655\n",
      "2025-08-29 03:17:30.671365 Epoch [001/002], Step [0400/1092], Loss1: 0.5639 Loss2: 0.5639\n",
      "2025-08-29 03:17:47.211056 Epoch [001/002], Step [0500/1092], Loss1: 0.1984 Loss2: 0.1984\n",
      "2025-08-29 03:18:03.692963 Epoch [001/002], Step [0600/1092], Loss1: 0.3110 Loss2: 0.3110\n",
      "2025-08-29 03:18:20.192622 Epoch [001/002], Step [0700/1092], Loss1: 0.2469 Loss2: 0.2469\n",
      "2025-08-29 03:18:36.715504 Epoch [001/002], Step [0800/1092], Loss1: 0.2075 Loss2: 0.2075\n",
      "2025-08-29 03:18:53.198449 Epoch [001/002], Step [0900/1092], Loss1: 0.2390 Loss2: 0.2390\n",
      "2025-08-29 03:19:09.716506 Epoch [001/002], Step [1000/1092], Loss1: 0.3650 Loss2: 0.3650\n",
      "2025-08-29 03:19:24.910611 Epoch [001/002], Step [1092/1092], Loss1: 0.4135 Loss2: 0.4135\n",
      "Epoch: 1 MAE: 0.15160614252090454 ####  bestMAE: 1 bestEpoch: 0\n"
     ]
    }
   ],
   "source": [
    "setup_gpu()\n",
    "model, optimizer, CE = get_model()\n",
    "train_loader, test_loader, total_step = get_data()\n",
    "main(optimizer, model, train_loader, test_loader, CE, total_step)"
   ]
  },
  {
   "cell_type": "markdown",
   "id": "4772a51d",
   "metadata": {},
   "source": [
    "# Use Trained Model"
   ]
  },
  {
   "cell_type": "markdown",
   "id": "aeffa333",
   "metadata": {},
   "source": [
    "I save the model using this code:\n",
    "torch.save(model.state_dict(), save_path +\n",
    "                           'BBSNet_epoch_best.pth')\n",
    "\n",
    "Now, after a long training period, I want to use it on my test data. So, how can I load this model?"
   ]
  },
  {
   "cell_type": "code",
   "execution_count": 3,
   "id": "74f98bce",
   "metadata": {},
   "outputs": [
    {
     "name": "stdout",
     "output_type": "stream",
     "text": [
      "Total parameters: 56674218\n",
      "Trainable parameters: 56674218\n",
      "Non-trainable parameters: 0\n"
     ]
    }
   ],
   "source": [
    "from models.BBSNet_model import BBSNetTransformerAttention\n",
    "\n",
    "model = BBSNetTransformerAttention()\n",
    "\n",
    "# assume your model is called `model`\n",
    "total_params = sum(p.numel() for p in model.parameters())\n",
    "trainable_params = sum(p.numel() for p in model.parameters() if p.requires_grad)\n",
    "\n",
    "print(f\"Total parameters: {total_params}\")\n",
    "print(f\"Trainable parameters: {trainable_params}\")\n",
    "print(f\"Non-trainable parameters: {total_params - trainable_params}\")\n"
   ]
  },
  {
   "cell_type": "code",
   "execution_count": 4,
   "id": "742812c3",
   "metadata": {},
   "outputs": [],
   "source": [
    "# test(method='bbsnet') "
   ]
  }
 ],
 "metadata": {
  "kernelspec": {
   "display_name": "pytorch",
   "language": "python",
   "name": "python3"
  },
  "language_info": {
   "codemirror_mode": {
    "name": "ipython",
    "version": 3
   },
   "file_extension": ".py",
   "mimetype": "text/x-python",
   "name": "python",
   "nbconvert_exporter": "python",
   "pygments_lexer": "ipython3",
   "version": "3.12.9"
  }
 },
 "nbformat": 4,
 "nbformat_minor": 5
}
