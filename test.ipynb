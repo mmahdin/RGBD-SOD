{
 "cells": [
  {
   "cell_type": "code",
   "execution_count": 1,
   "id": "d5676db7",
   "metadata": {},
   "outputs": [
    {
     "name": "stderr",
     "output_type": "stream",
     "text": [
      "/home/mahdi/Documents/pytorch/lib/python3.12/site-packages/tqdm/auto.py:21: TqdmWarning: IProgress not found. Please update jupyter and ipywidgets. See https://ipywidgets.readthedocs.io/en/stable/user_install.html\n",
      "  from .autonotebook import tqdm as notebook_tqdm\n"
     ]
    }
   ],
   "source": [
    "import sys\n",
    "sys.path.append('./models')\n",
    "from models.BBSNet_model import BBSNetTransformerAttention\n",
    "from models.BBSNet_model import BBSNetChannelSpatialAttention\n",
    "from BBSNet_train import setup_gpu, get_model, get_data, main\n",
    "from BBSNet_test import test\n",
    "from utils import evaluate, draw_curve\n",
    "\n",
    "%load_ext autoreload\n",
    "%autoreload 2"
   ]
  },
  {
   "cell_type": "code",
   "execution_count": 2,
   "id": "cc39963a",
   "metadata": {},
   "outputs": [],
   "source": [
    "# from models.RFNet import RFNet\n",
    "# import torch\n",
    "\n",
    "# rgb = torch.rand((2, 3, 352, 352)).cuda()\n",
    "# depth = torch.rand((2, 1, 352, 352)).cuda()\n",
    "# model = RFNet(32, 50).cuda()\n",
    "# l = model(rgb, depth)"
   ]
  },
  {
   "cell_type": "markdown",
   "id": "65abbfcb",
   "metadata": {},
   "source": [
    "# Train"
   ]
  },
  {
   "cell_type": "code",
   "execution_count": 3,
   "id": "d70c7f25",
   "metadata": {},
   "outputs": [
    {
     "name": "stdout",
     "output_type": "stream",
     "text": [
      "USE GPU 0\n"
     ]
    },
    {
     "name": "stderr",
     "output_type": "stream",
     "text": [
      "/home/mahdi/Documents/pytorch/lib/python3.12/site-packages/torch/functional.py:539: UserWarning: torch.meshgrid: in an upcoming release, it will be required to pass the indexing argument. (Triggered internally at /pytorch/aten/src/ATen/native/TensorShape.cpp:3637.)\n",
      "  return _VF.meshgrid(tensors, **kwargs)  # type: ignore[attr-defined]\n"
     ]
    },
    {
     "name": "stdout",
     "output_type": "stream",
     "text": [
      "load data...\n",
      "Start train...\n"
     ]
    },
    {
     "name": "stderr",
     "output_type": "stream",
     "text": [
      "/home/mahdi/Documents/pytorch/lib/python3.12/site-packages/torch/nn/_reduction.py:51: UserWarning: size_average and reduce args will be deprecated, please use reduction='mean' instead.\n",
      "  warnings.warn(warning.format(ret))\n"
     ]
    },
    {
     "name": "stdout",
     "output_type": "stream",
     "text": [
      "2025-08-31 04:15:44.908886 Epoch [001/002], Step [0001/2184], Loss1: 1.5685 Loss2: 1.7428\n",
      "2025-08-31 04:15:58.983005 Epoch [001/002], Step [0100/2184], Loss1: 0.7616 Loss2: 0.8344\n",
      "2025-08-31 04:16:13.089377 Epoch [001/002], Step [0200/2184], Loss1: 0.8836 Loss2: 0.9386\n",
      "2025-08-31 04:16:27.257312 Epoch [001/002], Step [0300/2184], Loss1: 1.0934 Loss2: 1.1165\n",
      "2025-08-31 04:16:41.438805 Epoch [001/002], Step [0400/2184], Loss1: 0.5544 Loss2: 0.5977\n",
      "2025-08-31 04:16:55.726051 Epoch [001/002], Step [0500/2184], Loss1: 0.3452 Loss2: 0.5387\n",
      "2025-08-31 04:17:10.100950 Epoch [001/002], Step [0600/2184], Loss1: 0.8891 Loss2: 0.7920\n",
      "2025-08-31 04:17:24.419066 Epoch [001/002], Step [0700/2184], Loss1: 0.6258 Loss2: 0.6021\n",
      "2025-08-31 04:17:38.692291 Epoch [001/002], Step [0800/2184], Loss1: 1.1424 Loss2: 1.0865\n",
      "2025-08-31 04:17:53.067120 Epoch [001/002], Step [0900/2184], Loss1: 1.4821 Loss2: 1.3666\n",
      "2025-08-31 04:18:07.384242 Epoch [001/002], Step [1000/2184], Loss1: 1.1774 Loss2: 0.9669\n",
      "2025-08-31 04:18:21.683268 Epoch [001/002], Step [1100/2184], Loss1: 0.9638 Loss2: 1.3175\n",
      "2025-08-31 04:18:36.118718 Epoch [001/002], Step [1200/2184], Loss1: 0.6990 Loss2: 0.6507\n",
      "2025-08-31 04:18:50.518091 Epoch [001/002], Step [1300/2184], Loss1: 0.5599 Loss2: 0.5448\n",
      "2025-08-31 04:19:04.805496 Epoch [001/002], Step [1400/2184], Loss1: 0.6240 Loss2: 0.4221\n",
      "2025-08-31 04:19:19.207362 Epoch [001/002], Step [1500/2184], Loss1: 0.6941 Loss2: 0.4909\n",
      "2025-08-31 04:19:33.669137 Epoch [001/002], Step [1600/2184], Loss1: 0.6054 Loss2: 0.5575\n",
      "2025-08-31 04:19:47.940349 Epoch [001/002], Step [1700/2184], Loss1: 0.5498 Loss2: 0.4508\n",
      "2025-08-31 04:20:02.233800 Epoch [001/002], Step [1800/2184], Loss1: 0.8194 Loss2: 0.5397\n",
      "2025-08-31 04:20:16.511485 Epoch [001/002], Step [1900/2184], Loss1: 0.8777 Loss2: 0.6549\n",
      "2025-08-31 04:20:30.869238 Epoch [001/002], Step [2000/2184], Loss1: 1.1406 Loss2: 0.7632\n",
      "2025-08-31 04:20:45.127428 Epoch [001/002], Step [2100/2184], Loss1: 0.4929 Loss2: 0.3198\n",
      "2025-08-31 04:20:57.097888 Epoch [001/002], Step [2184/2184], Loss1: 0.4472 Loss2: 0.4783\n",
      "Epoch: 1 MAE: 0.17514166235923767 ####  bestMAE: 1 bestEpoch: 0\n"
     ]
    }
   ],
   "source": [
    "setup_gpu()\n",
    "model, optimizer, CE = get_model()\n",
    "train_loader, test_loader, total_step = get_data()\n",
    "main(optimizer, model, train_loader, test_loader, CE, total_step)"
   ]
  },
  {
   "cell_type": "markdown",
   "id": "4772a51d",
   "metadata": {},
   "source": [
    "# Use Trained Model"
   ]
  },
  {
   "cell_type": "markdown",
   "id": "aeffa333",
   "metadata": {},
   "source": [
    "I save the model using this code:\n",
    "torch.save(model.state_dict(), save_path +\n",
    "                           'BBSNet_epoch_best.pth')\n",
    "\n",
    "Now, after a long training period, I want to use it on my test data. So, how can I load this model?"
   ]
  },
  {
   "cell_type": "code",
   "execution_count": 4,
   "id": "74f98bce",
   "metadata": {},
   "outputs": [
    {
     "name": "stdout",
     "output_type": "stream",
     "text": [
      "Total parameters: 60028676\n",
      "Trainable parameters: 60028676\n",
      "Non-trainable parameters: 0\n"
     ]
    }
   ],
   "source": [
    "from models.BBSNet_model import BBSNetTransformerAttention\n",
    "\n",
    "model = BBSNetTransformerAttention()\n",
    "\n",
    "# assume your model is called `model`\n",
    "total_params = sum(p.numel() for p in model.parameters())\n",
    "trainable_params = sum(p.numel() for p in model.parameters() if p.requires_grad)\n",
    "\n",
    "print(f\"Total parameters: {total_params}\")\n",
    "print(f\"Trainable parameters: {trainable_params}\")\n",
    "print(f\"Non-trainable parameters: {total_params - trainable_params}\")\n"
   ]
  },
  {
   "cell_type": "code",
   "execution_count": 5,
   "id": "742812c3",
   "metadata": {},
   "outputs": [],
   "source": [
    "# test(method='bbsnet') "
   ]
  }
 ],
 "metadata": {
  "kernelspec": {
   "display_name": "pytorch",
   "language": "python",
   "name": "python3"
  },
  "language_info": {
   "codemirror_mode": {
    "name": "ipython",
    "version": 3
   },
   "file_extension": ".py",
   "mimetype": "text/x-python",
   "name": "python",
   "nbconvert_exporter": "python",
   "pygments_lexer": "ipython3",
   "version": "3.12.9"
  }
 },
 "nbformat": 4,
 "nbformat_minor": 5
}
