{
 "cells": [
  {
   "cell_type": "code",
   "execution_count": 1,
   "id": "d5676db7",
   "metadata": {},
   "outputs": [
    {
     "name": "stderr",
     "output_type": "stream",
     "text": [
      "/home/mahdi/Documents/pytorch/lib/python3.12/site-packages/tqdm/auto.py:21: TqdmWarning: IProgress not found. Please update jupyter and ipywidgets. See https://ipywidgets.readthedocs.io/en/stable/user_install.html\n",
      "  from .autonotebook import tqdm as notebook_tqdm\n",
      "/home/mahdi/Documents/pytorch/lib/python3.12/site-packages/timm/models/layers/__init__.py:48: FutureWarning: Importing from timm.models.layers is deprecated, please import via timm.layers\n",
      "  warnings.warn(f\"Importing from {__name__} is deprecated, please import via timm.layers\", FutureWarning)\n"
     ]
    }
   ],
   "source": [
    "import sys\n",
    "sys.path.append('./models')\n",
    "from models.BBSNet_model import BBSNetTransformerAttention\n",
    "from BBSNet_train import setup_gpu, get_model, get_data, main\n",
    "from BBSNet_test import test\n",
    "from utils import evaluate, draw_curve\n",
    "\n",
    "%load_ext autoreload\n",
    "%autoreload 2"
   ]
  },
  {
   "cell_type": "markdown",
   "id": "65abbfcb",
   "metadata": {},
   "source": [
    "# Train"
   ]
  },
  {
   "cell_type": "code",
   "execution_count": 2,
   "id": "d70c7f25",
   "metadata": {},
   "outputs": [
    {
     "name": "stdout",
     "output_type": "stream",
     "text": [
      "USE GPU 0\n",
      "load data...\n",
      "Start train...\n"
     ]
    },
    {
     "ename": "RuntimeError",
     "evalue": "The size of tensor a (11) must match the size of tensor b (88) at non-singleton dimension 3",
     "output_type": "error",
     "traceback": [
      "\u001b[31m---------------------------------------------------------------------------\u001b[39m",
      "\u001b[31mRuntimeError\u001b[39m                              Traceback (most recent call last)",
      "\u001b[36mCell\u001b[39m\u001b[36m \u001b[39m\u001b[32mIn[2]\u001b[39m\u001b[32m, line 4\u001b[39m\n\u001b[32m      2\u001b[39m model, optimizer, CE = get_model()\n\u001b[32m      3\u001b[39m train_loader, test_loader, total_step = get_data()\n\u001b[32m----> \u001b[39m\u001b[32m4\u001b[39m \u001b[43mmain\u001b[49m\u001b[43m(\u001b[49m\u001b[43moptimizer\u001b[49m\u001b[43m,\u001b[49m\u001b[43m \u001b[49m\u001b[43mmodel\u001b[49m\u001b[43m,\u001b[49m\u001b[43m \u001b[49m\u001b[43mtrain_loader\u001b[49m\u001b[43m,\u001b[49m\u001b[43m \u001b[49m\u001b[43mtest_loader\u001b[49m\u001b[43m,\u001b[49m\u001b[43m \u001b[49m\u001b[43mCE\u001b[49m\u001b[43m,\u001b[49m\u001b[43m \u001b[49m\u001b[43mtotal_step\u001b[49m\u001b[43m)\u001b[49m\n",
      "\u001b[36mFile \u001b[39m\u001b[32m~/Documents/bach_prj/repo/BBS-Net/BBSNet_train.py:201\u001b[39m, in \u001b[36mmain\u001b[39m\u001b[34m(optimizer, model, train_loader, test_loader, CE, total_step)\u001b[39m\n\u001b[32m    198\u001b[39m cur_lr = adjust_lr(optimizer, opt.lr, epoch,\n\u001b[32m    199\u001b[39m                    opt.decay_rate, opt.decay_epoch)\n\u001b[32m    200\u001b[39m writer.add_scalar(\u001b[33m'\u001b[39m\u001b[33mlearning_rate\u001b[39m\u001b[33m'\u001b[39m, cur_lr, global_step=epoch)\n\u001b[32m--> \u001b[39m\u001b[32m201\u001b[39m \u001b[43mtrain\u001b[49m\u001b[43m(\u001b[49m\u001b[43mtrain_loader\u001b[49m\u001b[43m,\u001b[49m\u001b[43m \u001b[49m\u001b[43mmodel\u001b[49m\u001b[43m,\u001b[49m\u001b[43m \u001b[49m\u001b[43moptimizer\u001b[49m\u001b[43m,\u001b[49m\n\u001b[32m    202\u001b[39m \u001b[43m      \u001b[49m\u001b[43mepoch\u001b[49m\u001b[43m,\u001b[49m\u001b[43m \u001b[49m\u001b[43mopt\u001b[49m\u001b[43m.\u001b[49m\u001b[43msave_path\u001b[49m\u001b[43m,\u001b[49m\u001b[43m \u001b[49m\u001b[43mCE\u001b[49m\u001b[43m,\u001b[49m\u001b[43m \u001b[49m\u001b[43mtotal_step\u001b[49m\u001b[43m)\u001b[49m\n\u001b[32m    203\u001b[39m test(test_loader, model, epoch, opt.save_path)\n",
      "\u001b[36mFile \u001b[39m\u001b[32m~/Documents/bach_prj/repo/BBS-Net/BBSNet_train.py:110\u001b[39m, in \u001b[36mtrain\u001b[39m\u001b[34m(train_loader, model, optimizer, epoch, save_path, CE, total_step)\u001b[39m\n\u001b[32m    107\u001b[39m gts = gts.cuda()\n\u001b[32m    108\u001b[39m depths = depths.cuda()\n\u001b[32m--> \u001b[39m\u001b[32m110\u001b[39m s1, s2 = \u001b[43mmodel\u001b[49m\u001b[43m(\u001b[49m\u001b[43mimages\u001b[49m\u001b[43m,\u001b[49m\u001b[43m \u001b[49m\u001b[43mdepths\u001b[49m\u001b[43m)\u001b[49m\n\u001b[32m    111\u001b[39m loss1 = structure_loss(s1, gts)\n\u001b[32m    112\u001b[39m loss2 = structure_loss(s2, gts)\n",
      "\u001b[36mFile \u001b[39m\u001b[32m~/Documents/pytorch/lib/python3.12/site-packages/torch/nn/modules/module.py:1739\u001b[39m, in \u001b[36mModule._wrapped_call_impl\u001b[39m\u001b[34m(self, *args, **kwargs)\u001b[39m\n\u001b[32m   1737\u001b[39m     \u001b[38;5;28;01mreturn\u001b[39;00m \u001b[38;5;28mself\u001b[39m._compiled_call_impl(*args, **kwargs)  \u001b[38;5;66;03m# type: ignore[misc]\u001b[39;00m\n\u001b[32m   1738\u001b[39m \u001b[38;5;28;01melse\u001b[39;00m:\n\u001b[32m-> \u001b[39m\u001b[32m1739\u001b[39m     \u001b[38;5;28;01mreturn\u001b[39;00m \u001b[38;5;28;43mself\u001b[39;49m\u001b[43m.\u001b[49m\u001b[43m_call_impl\u001b[49m\u001b[43m(\u001b[49m\u001b[43m*\u001b[49m\u001b[43margs\u001b[49m\u001b[43m,\u001b[49m\u001b[43m \u001b[49m\u001b[43m*\u001b[49m\u001b[43m*\u001b[49m\u001b[43mkwargs\u001b[49m\u001b[43m)\u001b[49m\n",
      "\u001b[36mFile \u001b[39m\u001b[32m~/Documents/pytorch/lib/python3.12/site-packages/torch/nn/modules/module.py:1750\u001b[39m, in \u001b[36mModule._call_impl\u001b[39m\u001b[34m(self, *args, **kwargs)\u001b[39m\n\u001b[32m   1745\u001b[39m \u001b[38;5;66;03m# If we don't have any hooks, we want to skip the rest of the logic in\u001b[39;00m\n\u001b[32m   1746\u001b[39m \u001b[38;5;66;03m# this function, and just call forward.\u001b[39;00m\n\u001b[32m   1747\u001b[39m \u001b[38;5;28;01mif\u001b[39;00m \u001b[38;5;129;01mnot\u001b[39;00m (\u001b[38;5;28mself\u001b[39m._backward_hooks \u001b[38;5;129;01mor\u001b[39;00m \u001b[38;5;28mself\u001b[39m._backward_pre_hooks \u001b[38;5;129;01mor\u001b[39;00m \u001b[38;5;28mself\u001b[39m._forward_hooks \u001b[38;5;129;01mor\u001b[39;00m \u001b[38;5;28mself\u001b[39m._forward_pre_hooks\n\u001b[32m   1748\u001b[39m         \u001b[38;5;129;01mor\u001b[39;00m _global_backward_pre_hooks \u001b[38;5;129;01mor\u001b[39;00m _global_backward_hooks\n\u001b[32m   1749\u001b[39m         \u001b[38;5;129;01mor\u001b[39;00m _global_forward_hooks \u001b[38;5;129;01mor\u001b[39;00m _global_forward_pre_hooks):\n\u001b[32m-> \u001b[39m\u001b[32m1750\u001b[39m     \u001b[38;5;28;01mreturn\u001b[39;00m \u001b[43mforward_call\u001b[49m\u001b[43m(\u001b[49m\u001b[43m*\u001b[49m\u001b[43margs\u001b[49m\u001b[43m,\u001b[49m\u001b[43m \u001b[49m\u001b[43m*\u001b[49m\u001b[43m*\u001b[49m\u001b[43mkwargs\u001b[49m\u001b[43m)\u001b[49m\n\u001b[32m   1752\u001b[39m result = \u001b[38;5;28;01mNone\u001b[39;00m\n\u001b[32m   1753\u001b[39m called_always_called_hooks = \u001b[38;5;28mset\u001b[39m()\n",
      "\u001b[36mFile \u001b[39m\u001b[32m~/Documents/bach_prj/repo/BBS-Net/models/BBSNet_model.py:779\u001b[39m, in \u001b[36mBBSNetTransformerAttention.forward\u001b[39m\u001b[34m(self, x, x_depth)\u001b[39m\n\u001b[32m    775\u001b[39m x4_1 = x4_1 + \u001b[38;5;28mself\u001b[39m.cpa4(x4_1_depth)\n\u001b[32m    777\u001b[39m \u001b[38;5;66;03m# =======================================================\u001b[39;00m\n\u001b[32m--> \u001b[39m\u001b[32m779\u001b[39m x = \u001b[38;5;28;43mself\u001b[39;49m\u001b[43m.\u001b[49m\u001b[43mfuse0\u001b[49m\u001b[43m(\u001b[49m\u001b[43mx\u001b[49m\u001b[43m,\u001b[49m\u001b[43m \u001b[49m\u001b[43mx_depth\u001b[49m\u001b[43m)\u001b[49m\n\u001b[32m    780\u001b[39m x1 = \u001b[38;5;28mself\u001b[39m.fuse1(x1, x1_depth)\n\u001b[32m    781\u001b[39m x2 = \u001b[38;5;28mself\u001b[39m.fuse2(x2, x2_depth)\n",
      "\u001b[36mFile \u001b[39m\u001b[32m~/Documents/pytorch/lib/python3.12/site-packages/torch/nn/modules/module.py:1739\u001b[39m, in \u001b[36mModule._wrapped_call_impl\u001b[39m\u001b[34m(self, *args, **kwargs)\u001b[39m\n\u001b[32m   1737\u001b[39m     \u001b[38;5;28;01mreturn\u001b[39;00m \u001b[38;5;28mself\u001b[39m._compiled_call_impl(*args, **kwargs)  \u001b[38;5;66;03m# type: ignore[misc]\u001b[39;00m\n\u001b[32m   1738\u001b[39m \u001b[38;5;28;01melse\u001b[39;00m:\n\u001b[32m-> \u001b[39m\u001b[32m1739\u001b[39m     \u001b[38;5;28;01mreturn\u001b[39;00m \u001b[38;5;28;43mself\u001b[39;49m\u001b[43m.\u001b[49m\u001b[43m_call_impl\u001b[49m\u001b[43m(\u001b[49m\u001b[43m*\u001b[49m\u001b[43margs\u001b[49m\u001b[43m,\u001b[49m\u001b[43m \u001b[49m\u001b[43m*\u001b[49m\u001b[43m*\u001b[49m\u001b[43mkwargs\u001b[49m\u001b[43m)\u001b[49m\n",
      "\u001b[36mFile \u001b[39m\u001b[32m~/Documents/pytorch/lib/python3.12/site-packages/torch/nn/modules/module.py:1750\u001b[39m, in \u001b[36mModule._call_impl\u001b[39m\u001b[34m(self, *args, **kwargs)\u001b[39m\n\u001b[32m   1745\u001b[39m \u001b[38;5;66;03m# If we don't have any hooks, we want to skip the rest of the logic in\u001b[39;00m\n\u001b[32m   1746\u001b[39m \u001b[38;5;66;03m# this function, and just call forward.\u001b[39;00m\n\u001b[32m   1747\u001b[39m \u001b[38;5;28;01mif\u001b[39;00m \u001b[38;5;129;01mnot\u001b[39;00m (\u001b[38;5;28mself\u001b[39m._backward_hooks \u001b[38;5;129;01mor\u001b[39;00m \u001b[38;5;28mself\u001b[39m._backward_pre_hooks \u001b[38;5;129;01mor\u001b[39;00m \u001b[38;5;28mself\u001b[39m._forward_hooks \u001b[38;5;129;01mor\u001b[39;00m \u001b[38;5;28mself\u001b[39m._forward_pre_hooks\n\u001b[32m   1748\u001b[39m         \u001b[38;5;129;01mor\u001b[39;00m _global_backward_pre_hooks \u001b[38;5;129;01mor\u001b[39;00m _global_backward_hooks\n\u001b[32m   1749\u001b[39m         \u001b[38;5;129;01mor\u001b[39;00m _global_forward_hooks \u001b[38;5;129;01mor\u001b[39;00m _global_forward_pre_hooks):\n\u001b[32m-> \u001b[39m\u001b[32m1750\u001b[39m     \u001b[38;5;28;01mreturn\u001b[39;00m \u001b[43mforward_call\u001b[49m\u001b[43m(\u001b[49m\u001b[43m*\u001b[49m\u001b[43margs\u001b[49m\u001b[43m,\u001b[49m\u001b[43m \u001b[49m\u001b[43m*\u001b[49m\u001b[43m*\u001b[49m\u001b[43mkwargs\u001b[49m\u001b[43m)\u001b[49m\n\u001b[32m   1752\u001b[39m result = \u001b[38;5;28;01mNone\u001b[39;00m\n\u001b[32m   1753\u001b[39m called_always_called_hooks = \u001b[38;5;28mset\u001b[39m()\n",
      "\u001b[36mFile \u001b[39m\u001b[32m~/Documents/bach_prj/repo/BBS-Net/models/BBSNet_model.py:440\u001b[39m, in \u001b[36mFusion.forward\u001b[39m\u001b[34m(self, Ri, Ti)\u001b[39m\n\u001b[32m    437\u001b[39m fused = fused + \u001b[38;5;28mself\u001b[39m.mlp(fused)\n\u001b[32m    438\u001b[39m fused = \u001b[38;5;28mself\u001b[39m.out_norm(fused)\n\u001b[32m--> \u001b[39m\u001b[32m440\u001b[39m \u001b[38;5;28;01mreturn\u001b[39;00m \u001b[43mfused\u001b[49m\u001b[43m \u001b[49m\u001b[43m+\u001b[49m\u001b[43m \u001b[49m\u001b[43mRi\u001b[49m\n",
      "\u001b[31mRuntimeError\u001b[39m: The size of tensor a (11) must match the size of tensor b (88) at non-singleton dimension 3"
     ]
    }
   ],
   "source": [
    "setup_gpu()\n",
    "model, optimizer, CE = get_model()\n",
    "train_loader, test_loader, total_step = get_data()\n",
    "main(optimizer, model, train_loader, test_loader, CE, total_step)"
   ]
  },
  {
   "cell_type": "markdown",
   "id": "4772a51d",
   "metadata": {},
   "source": [
    "# Use Trained Model"
   ]
  },
  {
   "cell_type": "markdown",
   "id": "aeffa333",
   "metadata": {},
   "source": [
    "I save the model using this code:\n",
    "torch.save(model.state_dict(), save_path +\n",
    "                           'BBSNet_epoch_best.pth')\n",
    "\n",
    "Now, after a long training period, I want to use it on my test data. So, how can I load this model?"
   ]
  },
  {
   "cell_type": "code",
   "execution_count": null,
   "id": "74f98bce",
   "metadata": {},
   "outputs": [],
   "source": [
    "from models.BBSNet_model import BBSNetTransformerAttention\n",
    "\n",
    "model = BBSNetTransformerAttention()\n",
    "\n",
    "# assume your model is called `model`\n",
    "total_params = sum(p.numel() for p in model.parameters())\n",
    "trainable_params = sum(p.numel() for p in model.parameters() if p.requires_grad)\n",
    "\n",
    "print(f\"Total parameters: {total_params}\")\n",
    "print(f\"Trainable parameters: {trainable_params}\")\n",
    "print(f\"Non-trainable parameters: {total_params - trainable_params}\")\n"
   ]
  },
  {
   "cell_type": "code",
   "execution_count": null,
   "id": "742812c3",
   "metadata": {},
   "outputs": [],
   "source": [
    "test(method='combined') "
   ]
  },
  {
   "cell_type": "code",
   "execution_count": null,
   "id": "945ae207",
   "metadata": {},
   "outputs": [],
   "source": [
    "from latex_table import main\n",
    "main()"
   ]
  },
  {
   "cell_type": "code",
   "execution_count": null,
   "id": "5543b133",
   "metadata": {},
   "outputs": [],
   "source": [
    "evaluate()"
   ]
  },
  {
   "cell_type": "code",
   "execution_count": null,
   "id": "177f0979",
   "metadata": {},
   "outputs": [],
   "source": [
    "file_path = \"PySODEvalToolkit-master/output/results.xlsx\""
   ]
  },
  {
   "cell_type": "code",
   "execution_count": null,
   "id": "42542d9c",
   "metadata": {},
   "outputs": [],
   "source": [
    "import openpyxl\n",
    "from openpyxl.styles import PatternFill\n",
    "\n",
    "def highlight_top3_in_metrics(file_path, output_path):\n",
    "    # Load the workbook and sheet\n",
    "    workbook = openpyxl.load_workbook(file_path)\n",
    "    sheet = workbook.active\n",
    "    \n",
    "    # Define fill colors for top 3\n",
    "    top_colors = [\n",
    "        PatternFill(start_color=\"00FF00\", end_color=\"00FF00\", fill_type=\"solid\"),  # Green\n",
    "        PatternFill(start_color=\"FFFF00\", end_color=\"FFFF00\", fill_type=\"solid\"),  # Yellow\n",
    "        PatternFill(start_color=\"FF0000\", end_color=\"FF0000\", fill_type=\"solid\"),  # Red\n",
    "    ]\n",
    "    \n",
    "    # Get the maximum row and column indices\n",
    "    max_row = sheet.max_row\n",
    "    max_col = sheet.max_column\n",
    "    \n",
    "    # Data starts from row 3 (since rows 1 and 2 are headers)\n",
    "    start_data_row = 3\n",
    "    \n",
    "    # Iterate through each column\n",
    "    for col in range(1, max_col + 1):\n",
    "        values = []\n",
    "        # Collect all numeric values in the column\n",
    "        for row in range(start_data_row, max_row + 1):\n",
    "            cell = sheet.cell(row=row, column=col)\n",
    "            try:\n",
    "                num_val = float(cell.value)\n",
    "                values.append((num_val, cell))\n",
    "            except (ValueError, TypeError):\n",
    "                continue\n",
    "        \n",
    "        if not values:\n",
    "            continue\n",
    "        \n",
    "        # Sort values in descending order (highest first)\n",
    "        values.sort(key=lambda x: x[0], reverse=True)\n",
    "        \n",
    "        # Color only top 3 values (if they exist)\n",
    "        for rank, (val, cell) in enumerate(values[:3]):\n",
    "            cell.fill = top_colors[rank]\n",
    "    \n",
    "    # Save the modified workbook\n",
    "    workbook.save(output_path)\n",
    "\n",
    "# Example usage\n",
    "input_file = \"PySODEvalToolkit-master/output/results.xlsx\"\n",
    "output_file = \"PySODEvalToolkit-master/output/results1.xlsx\"\n",
    "highlight_top3_in_metrics(input_file, output_file)\n"
   ]
  }
 ],
 "metadata": {
  "kernelspec": {
   "display_name": "pytorch",
   "language": "python",
   "name": "python3"
  },
  "language_info": {
   "codemirror_mode": {
    "name": "ipython",
    "version": 3
   },
   "file_extension": ".py",
   "mimetype": "text/x-python",
   "name": "python",
   "nbconvert_exporter": "python",
   "pygments_lexer": "ipython3",
   "version": "3.12.9"
  }
 },
 "nbformat": 4,
 "nbformat_minor": 5
}
