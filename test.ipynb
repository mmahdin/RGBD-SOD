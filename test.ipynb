{
 "cells": [
  {
   "cell_type": "code",
   "execution_count": 1,
   "id": "d5676db7",
   "metadata": {},
   "outputs": [],
   "source": [
    "import sys\n",
    "sys.path.append('./models')\n",
    "from models.BBSNet_model import BBSNetTransformerAttention\n",
    "from models.BBSNet_model import BBSNetChannelSpatialAttention\n",
    "from BBSNet_train import setup_gpu, get_model, get_data, main\n",
    "from BBSNet_test import test\n",
    "from utils import evaluate, draw_curve\n",
    "\n",
    "%load_ext autoreload\n",
    "%autoreload 2"
   ]
  },
  {
   "cell_type": "code",
   "execution_count": 2,
   "id": "cc39963a",
   "metadata": {},
   "outputs": [],
   "source": [
    "# from models.RFNet import RFNet\n",
    "# import torch\n",
    "\n",
    "# rgb = torch.rand((2, 3, 352, 352)).cuda()\n",
    "# depth = torch.rand((2, 1, 352, 352)).cuda()\n",
    "# model = RFNet(32, 50).cuda()\n",
    "# l = model(rgb, depth)"
   ]
  },
  {
   "cell_type": "markdown",
   "id": "65abbfcb",
   "metadata": {},
   "source": [
    "# Train"
   ]
  },
  {
   "cell_type": "code",
   "execution_count": 3,
   "id": "d70c7f25",
   "metadata": {},
   "outputs": [
    {
     "name": "stdout",
     "output_type": "stream",
     "text": [
      "USE GPU 0\n",
      "load data...\n",
      "Start train...\n",
      "2025-08-30 03:36:02.946539 Epoch [001/002], Step [0001/1092], Loss1: 0.7636 Loss2: 0.7636\n",
      "2025-08-30 03:36:25.138582 Epoch [001/002], Step [0100/1092], Loss1: 0.3073 Loss2: 0.3073\n",
      "2025-08-30 03:36:47.740252 Epoch [001/002], Step [0200/1092], Loss1: 0.2210 Loss2: 0.2210\n",
      "2025-08-30 03:37:10.317840 Epoch [001/002], Step [0300/1092], Loss1: 0.2687 Loss2: 0.2687\n",
      "2025-08-30 03:37:32.881308 Epoch [001/002], Step [0400/1092], Loss1: 0.4138 Loss2: 0.4138\n",
      "2025-08-30 03:37:55.482881 Epoch [001/002], Step [0500/1092], Loss1: 0.1593 Loss2: 0.1593\n",
      "2025-08-30 03:38:18.002296 Epoch [001/002], Step [0600/1092], Loss1: 0.1898 Loss2: 0.1898\n",
      "2025-08-30 03:38:40.538347 Epoch [001/002], Step [0700/1092], Loss1: 0.2222 Loss2: 0.2222\n",
      "2025-08-30 03:39:03.089456 Epoch [001/002], Step [0800/1092], Loss1: 0.1873 Loss2: 0.1873\n",
      "2025-08-30 03:39:25.720714 Epoch [001/002], Step [0900/1092], Loss1: 0.1250 Loss2: 0.1250\n",
      "2025-08-30 03:39:48.280695 Epoch [001/002], Step [1000/1092], Loss1: 0.1684 Loss2: 0.1684\n",
      "2025-08-30 03:40:09.044856 Epoch [001/002], Step [1092/1092], Loss1: 0.2632 Loss2: 0.2632\n",
      "Epoch: 1 MAE: 0.11667609959840775 ####  bestMAE: 1 bestEpoch: 0\n"
     ]
    }
   ],
   "source": [
    "setup_gpu()\n",
    "model, optimizer, CE = get_model()\n",
    "train_loader, test_loader, total_step = get_data()\n",
    "main(optimizer, model, train_loader, test_loader, CE, total_step)"
   ]
  },
  {
   "cell_type": "markdown",
   "id": "4772a51d",
   "metadata": {},
   "source": [
    "# Use Trained Model"
   ]
  },
  {
   "cell_type": "markdown",
   "id": "aeffa333",
   "metadata": {},
   "source": [
    "I save the model using this code:\n",
    "torch.save(model.state_dict(), save_path +\n",
    "                           'BBSNet_epoch_best.pth')\n",
    "\n",
    "Now, after a long training period, I want to use it on my test data. So, how can I load this model?"
   ]
  },
  {
   "cell_type": "code",
   "execution_count": 4,
   "id": "74f98bce",
   "metadata": {},
   "outputs": [
    {
     "name": "stdout",
     "output_type": "stream",
     "text": [
      "Total parameters: 104882683\n",
      "Trainable parameters: 104882683\n",
      "Non-trainable parameters: 0\n"
     ]
    }
   ],
   "source": [
    "from models.BBSNet_model import BBSNetTransformerAttention\n",
    "\n",
    "model = BBSNetTransformerAttention()\n",
    "\n",
    "# assume your model is called `model`\n",
    "total_params = sum(p.numel() for p in model.parameters())\n",
    "trainable_params = sum(p.numel() for p in model.parameters() if p.requires_grad)\n",
    "\n",
    "print(f\"Total parameters: {total_params}\")\n",
    "print(f\"Trainable parameters: {trainable_params}\")\n",
    "print(f\"Non-trainable parameters: {total_params - trainable_params}\")\n"
   ]
  },
  {
   "cell_type": "code",
   "execution_count": 5,
   "id": "742812c3",
   "metadata": {},
   "outputs": [],
   "source": [
    "# test(method='bbsnet') "
   ]
  }
 ],
 "metadata": {
  "kernelspec": {
   "display_name": "pytorch",
   "language": "python",
   "name": "python3"
  },
  "language_info": {
   "codemirror_mode": {
    "name": "ipython",
    "version": 3
   },
   "file_extension": ".py",
   "mimetype": "text/x-python",
   "name": "python",
   "nbconvert_exporter": "python",
   "pygments_lexer": "ipython3",
   "version": "3.12.9"
  }
 },
 "nbformat": 4,
 "nbformat_minor": 5
}
