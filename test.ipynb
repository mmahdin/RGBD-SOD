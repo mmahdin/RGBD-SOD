{
 "cells": [
  {
   "cell_type": "code",
   "execution_count": 1,
   "id": "d5676db7",
   "metadata": {},
   "outputs": [],
   "source": [
    "from data import get_loader, test_dataset\n",
    "from options import opt\n",
    "import torch.backends.cudnn as cudnn\n",
    "import logging\n",
    "from tensorboardX import SummaryWriter\n",
    "from utils import clip_gradient, adjust_lr\n",
    "from models.BBSNet_model import BBSNet\n",
    "from torchvision.utils import make_grid\n",
    "from datetime import datetime\n",
    "import numpy as np\n",
    "import os\n",
    "import torch\n",
    "import torch.nn.functional as F\n",
    "import sys\n",
    "sys.path.append('./models')\n",
    "\n",
    "from BBSNet_train import *\n",
    "\n",
    "%load_ext autoreload\n",
    "%autoreload 2"
   ]
  },
  {
   "cell_type": "code",
   "execution_count": 2,
   "id": "d70c7f25",
   "metadata": {},
   "outputs": [
    {
     "name": "stdout",
     "output_type": "stream",
     "text": [
      "USE GPU 0\n",
      "load data...\n",
      "Start train...\n",
      "input image shape: torch.Size([4, 3, 352, 352])\n",
      "gts shape: torch.Size([4, 1, 352, 352])\n",
      "depth image shape: torch.Size([4, 1, 352, 352])\n",
      "x after conv1: torch.Size([4, 64, 176, 176])\n",
      "x after bn1: torch.Size([4, 64, 176, 176])\n",
      "x after relu: torch.Size([4, 64, 176, 176])\n",
      "x after maxpool: torch.Size([4, 64, 88, 88])\n",
      "\n",
      "x_depth after conv1: torch.Size([4, 64, 176, 176])\n",
      "x_depth after bn1: torch.Size([4, 64, 176, 176])\n",
      "x_depth after relu: torch.Size([4, 64, 176, 176])\n",
      "x_depth after maxpool: torch.Size([4, 64, 88, 88])\n",
      "\n",
      "atten depth channel: torch.Size([4, 64, 1, 1])\n",
      "depth mul by channel attention: torch.Size([4, 64, 88, 88])\n",
      "atten depth spatial: torch.Size([4, 1, 88, 88])\n",
      "temp mul by spatial attention: torch.Size([4, 64, 88, 88])\n",
      "x after layer0 merge: torch.Size([4, 64, 88, 88])\n",
      "\n",
      "x1 after layer1: torch.Size([4, 256, 88, 88])\n",
      "x1_depth after layer1: torch.Size([4, 256, 88, 88])\n",
      "\n",
      "x1 after layer1 merge: torch.Size([4, 256, 88, 88])\n",
      "\n",
      "x2 after layer2: torch.Size([4, 512, 44, 44])\n",
      "x2_depth after layer2: torch.Size([4, 512, 44, 44])\n",
      "\n",
      "x2 after layer2 merge: torch.Size([4, 512, 44, 44])\n",
      "\n",
      "x2_1: torch.Size([4, 512, 44, 44])\n",
      "\n",
      "x3_1 after layer3_1: torch.Size([4, 1024, 22, 22])\n",
      "x3_1_depth after layer3_1: torch.Size([4, 1024, 22, 22])\n",
      "\n",
      "x3_1 after layer3_1 merge: torch.Size([4, 1024, 22, 22])\n",
      "\n",
      "x4_1 after layer4_1: torch.Size([4, 2048, 11, 11])\n",
      "x4_1_depth after layer4_1: torch.Size([4, 2048, 11, 11])\n",
      "\n",
      "x4_1 after layer4_1 merge: torch.Size([4, 2048, 11, 11])\n",
      "\n",
      "x2_1 after rfb2_1: torch.Size([4, 32, 44, 44])\n",
      "x3_1 after rfb3_1: torch.Size([4, 32, 22, 22])\n",
      "x4_1 after rfb4_1: torch.Size([4, 32, 11, 11])\n",
      "attention_map: torch.Size([4, 1, 44, 44])\n",
      "\n",
      "x after HA: torch.Size([4, 64, 88, 88])\n",
      "x1 after HA: torch.Size([4, 256, 88, 88])\n",
      "x5 after HA: torch.Size([4, 512, 44, 44])\n",
      "\n",
      "x0_2: torch.Size([4, 32, 88, 88])\n",
      "x1_2: torch.Size([4, 32, 88, 88])\n",
      "x5_2: torch.Size([4, 32, 44, 44])\n",
      "\n",
      "y after agg2: torch.Size([4, 96, 88, 88])\n",
      "\n",
      "agant1 shape: torch.Size([4, 64, 88, 88])\n",
      "deconv1 shape: torch.Size([4, 64, 176, 176])\n",
      "agant2 shape: torch.Size([4, 32, 176, 176])\n",
      "deconv2 shape: torch.Size([4, 32, 352, 352])\n",
      "y after PTM module: torch.Size([4, 1, 352, 352])\n",
      "\n",
      "\n",
      "attention map shape: torch.Size([4, 1, 352, 352])\n"
     ]
    },
    {
     "ename": "ZeroDivisionError",
     "evalue": "division by zero",
     "output_type": "error",
     "traceback": [
      "\u001b[31m---------------------------------------------------------------------------\u001b[39m",
      "\u001b[31mZeroDivisionError\u001b[39m                         Traceback (most recent call last)",
      "\u001b[36mCell\u001b[39m\u001b[36m \u001b[39m\u001b[32mIn[2]\u001b[39m\u001b[32m, line 4\u001b[39m\n\u001b[32m      2\u001b[39m model, optimizer, CE = get_model()\n\u001b[32m      3\u001b[39m train_loader, test_loader, total_step = get_data()\n\u001b[32m----> \u001b[39m\u001b[32m4\u001b[39m \u001b[43mmain\u001b[49m\u001b[43m(\u001b[49m\u001b[43moptimizer\u001b[49m\u001b[43m,\u001b[49m\u001b[43m \u001b[49m\u001b[43mmodel\u001b[49m\u001b[43m,\u001b[49m\u001b[43m \u001b[49m\u001b[43mtrain_loader\u001b[49m\u001b[43m,\u001b[49m\u001b[43m \u001b[49m\u001b[43mtest_loader\u001b[49m\u001b[43m,\u001b[49m\u001b[43m \u001b[49m\u001b[43mCE\u001b[49m\u001b[43m,\u001b[49m\u001b[43m \u001b[49m\u001b[43mtotal_step\u001b[49m\u001b[43m)\u001b[49m\n",
      "\u001b[36mFile \u001b[39m\u001b[32m~/Documents/bach_prj/repo/BBS-Net/BBSNet_train.py:182\u001b[39m, in \u001b[36mmain\u001b[39m\u001b[34m(optimizer, model, train_loader, test_loader, CE, total_step)\u001b[39m\n\u001b[32m    179\u001b[39m cur_lr = adjust_lr(optimizer, opt.lr, epoch,\n\u001b[32m    180\u001b[39m                    opt.decay_rate, opt.decay_epoch)\n\u001b[32m    181\u001b[39m writer.add_scalar(\u001b[33m'\u001b[39m\u001b[33mlearning_rate\u001b[39m\u001b[33m'\u001b[39m, cur_lr, global_step=epoch)\n\u001b[32m--> \u001b[39m\u001b[32m182\u001b[39m \u001b[43mtrain\u001b[49m\u001b[43m(\u001b[49m\u001b[43mtrain_loader\u001b[49m\u001b[43m,\u001b[49m\u001b[43m \u001b[49m\u001b[43mmodel\u001b[49m\u001b[43m,\u001b[49m\u001b[43m \u001b[49m\u001b[43moptimizer\u001b[49m\u001b[43m,\u001b[49m\u001b[43m \u001b[49m\u001b[43mepoch\u001b[49m\u001b[43m,\u001b[49m\u001b[43m \u001b[49m\u001b[43mopt\u001b[49m\u001b[43m.\u001b[49m\u001b[43msave_path\u001b[49m\u001b[43m,\u001b[49m\u001b[43m \u001b[49m\u001b[43mCE\u001b[49m\u001b[43m,\u001b[49m\u001b[43m \u001b[49m\u001b[43mtotal_step\u001b[49m\u001b[43m)\u001b[49m\n\u001b[32m    183\u001b[39m test(test_loader, model, epoch, opt.save_path)\n",
      "\u001b[36mFile \u001b[39m\u001b[32m~/Documents/bach_prj/repo/BBS-Net/BBSNet_train.py:126\u001b[39m, in \u001b[36mtrain\u001b[39m\u001b[34m(train_loader, model, optimizer, epoch, save_path, CE, total_step)\u001b[39m\n\u001b[32m    123\u001b[39m         res = (res - res.min()) / (res.max() - res.min() + \u001b[32m1e-8\u001b[39m)\n\u001b[32m    124\u001b[39m         writer.add_image(\u001b[33m'\u001b[39m\u001b[33ms2\u001b[39m\u001b[33m'\u001b[39m, torch.tensor(res), step, dataformats=\u001b[33m'\u001b[39m\u001b[33mHW\u001b[39m\u001b[33m'\u001b[39m)\n\u001b[32m--> \u001b[39m\u001b[32m126\u001b[39m \u001b[43mloss_all\u001b[49m\u001b[43m \u001b[49m\u001b[43m/\u001b[49m\u001b[43m=\u001b[49m\u001b[43m \u001b[49m\u001b[43mepoch_step\u001b[49m\n\u001b[32m    127\u001b[39m logging.info(\n\u001b[32m    128\u001b[39m     \u001b[33m'\u001b[39m\u001b[33m#TRAIN#:Epoch [\u001b[39m\u001b[38;5;132;01m{:03d}\u001b[39;00m\u001b[33m/\u001b[39m\u001b[38;5;132;01m{:03d}\u001b[39;00m\u001b[33m], Loss_AVG: \u001b[39m\u001b[38;5;132;01m{:.4f}\u001b[39;00m\u001b[33m'\u001b[39m.format(epoch, opt.epoch, loss_all))\n\u001b[32m    129\u001b[39m writer.add_scalar(\u001b[33m'\u001b[39m\u001b[33mLoss-epoch\u001b[39m\u001b[33m'\u001b[39m, loss_all, global_step=epoch)\n",
      "\u001b[31mZeroDivisionError\u001b[39m: division by zero"
     ]
    }
   ],
   "source": [
    "setup_gpu()\n",
    "model, optimizer, CE = get_model()\n",
    "train_loader, test_loader, total_step = get_data()\n",
    "main(optimizer, model, train_loader, test_loader, CE, total_step)"
   ]
  }
 ],
 "metadata": {
  "kernelspec": {
   "display_name": "pytorch",
   "language": "python",
   "name": "python3"
  },
  "language_info": {
   "codemirror_mode": {
    "name": "ipython",
    "version": 3
   },
   "file_extension": ".py",
   "mimetype": "text/x-python",
   "name": "python",
   "nbconvert_exporter": "python",
   "pygments_lexer": "ipython3",
   "version": "3.12.9"
  }
 },
 "nbformat": 4,
 "nbformat_minor": 5
}
