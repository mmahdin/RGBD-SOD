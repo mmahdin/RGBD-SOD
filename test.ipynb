{
 "cells": [
  {
   "cell_type": "code",
   "execution_count": 1,
   "id": "d5676db7",
   "metadata": {},
   "outputs": [
    {
     "name": "stderr",
     "output_type": "stream",
     "text": [
      "/home/mahdi/Documents/pytorch/lib/python3.12/site-packages/tqdm/auto.py:21: TqdmWarning: IProgress not found. Please update jupyter and ipywidgets. See https://ipywidgets.readthedocs.io/en/stable/user_install.html\n",
      "  from .autonotebook import tqdm as notebook_tqdm\n"
     ]
    }
   ],
   "source": [
    "import sys\n",
    "sys.path.append('./models')\n",
    "from models.BBSNet_model import BBSNetTransformerAttention\n",
    "from models.BBSNet_model import BBSNetChannelSpatialAttention\n",
    "from BBSNet_train import setup_gpu, get_model, get_data, main\n",
    "from BBSNet_test import test\n",
    "from utils import evaluate, draw_curve\n",
    "\n",
    "%load_ext autoreload\n",
    "%autoreload 2"
   ]
  },
  {
   "cell_type": "markdown",
   "id": "65abbfcb",
   "metadata": {},
   "source": [
    "# Train"
   ]
  },
  {
   "cell_type": "code",
   "execution_count": 2,
   "id": "d70c7f25",
   "metadata": {},
   "outputs": [
    {
     "name": "stdout",
     "output_type": "stream",
     "text": [
      "USE GPU 0\n"
     ]
    },
    {
     "name": "stderr",
     "output_type": "stream",
     "text": [
      "/home/mahdi/Documents/pytorch/lib/python3.12/site-packages/torch/nn/modules/transformer.py:385: UserWarning: enable_nested_tensor is True, but self.use_nested_tensor is False because encoder_layer.norm_first was True\n",
      "  warnings.warn(\n"
     ]
    },
    {
     "name": "stdout",
     "output_type": "stream",
     "text": [
      "load data...\n",
      "Start train...\n",
      "2025-08-29 01:58:08.622734 Epoch [001/002], Step [0001/1092], Loss1: 0.8279 Loss2: 0.8279\n",
      "2025-08-29 01:58:27.598542 Epoch [001/002], Step [0100/1092], Loss1: 0.6127 Loss2: 0.6127\n",
      "2025-08-29 01:58:46.845727 Epoch [001/002], Step [0200/1092], Loss1: 0.4990 Loss2: 0.4990\n",
      "2025-08-29 01:59:06.319289 Epoch [001/002], Step [0300/1092], Loss1: 0.5259 Loss2: 0.5259\n",
      "2025-08-29 01:59:25.618392 Epoch [001/002], Step [0400/1092], Loss1: 0.6593 Loss2: 0.6593\n",
      "2025-08-29 01:59:45.002404 Epoch [001/002], Step [0500/1092], Loss1: 0.4355 Loss2: 0.4355\n",
      "2025-08-29 02:00:04.397563 Epoch [001/002], Step [0600/1092], Loss1: 0.5314 Loss2: 0.5314\n",
      "2025-08-29 02:00:23.813318 Epoch [001/002], Step [0700/1092], Loss1: 0.4282 Loss2: 0.4282\n",
      "2025-08-29 02:00:43.275888 Epoch [001/002], Step [0800/1092], Loss1: 0.4067 Loss2: 0.4067\n",
      "2025-08-29 02:01:02.669765 Epoch [001/002], Step [0900/1092], Loss1: 0.3790 Loss2: 0.3790\n",
      "2025-08-29 02:01:22.077558 Epoch [001/002], Step [1000/1092], Loss1: 0.4538 Loss2: 0.4538\n",
      "2025-08-29 02:01:39.968958 Epoch [001/002], Step [1092/1092], Loss1: 0.4709 Loss2: 0.4709\n",
      "Epoch: 1 MAE: 0.20640705525875092 ####  bestMAE: 1 bestEpoch: 0\n"
     ]
    }
   ],
   "source": [
    "setup_gpu()\n",
    "model, optimizer, CE = get_model()\n",
    "train_loader, test_loader, total_step = get_data()\n",
    "main(optimizer, model, train_loader, test_loader, CE, total_step)"
   ]
  },
  {
   "cell_type": "markdown",
   "id": "4772a51d",
   "metadata": {},
   "source": [
    "# Use Trained Model"
   ]
  },
  {
   "cell_type": "markdown",
   "id": "aeffa333",
   "metadata": {},
   "source": [
    "I save the model using this code:\n",
    "torch.save(model.state_dict(), save_path +\n",
    "                           'BBSNet_epoch_best.pth')\n",
    "\n",
    "Now, after a long training period, I want to use it on my test data. So, how can I load this model?"
   ]
  },
  {
   "cell_type": "code",
   "execution_count": 3,
   "id": "74f98bce",
   "metadata": {},
   "outputs": [
    {
     "name": "stdout",
     "output_type": "stream",
     "text": [
      "Total parameters: 57578931\n",
      "Trainable parameters: 57578931\n",
      "Non-trainable parameters: 0\n"
     ]
    }
   ],
   "source": [
    "from models.BBSNet_model import BBSNetTransformerAttention\n",
    "\n",
    "model = BBSNetTransformerAttention()\n",
    "\n",
    "# assume your model is called `model`\n",
    "total_params = sum(p.numel() for p in model.parameters())\n",
    "trainable_params = sum(p.numel() for p in model.parameters() if p.requires_grad)\n",
    "\n",
    "print(f\"Total parameters: {total_params}\")\n",
    "print(f\"Trainable parameters: {trainable_params}\")\n",
    "print(f\"Non-trainable parameters: {total_params - trainable_params}\")\n"
   ]
  },
  {
   "cell_type": "code",
   "execution_count": 4,
   "id": "742812c3",
   "metadata": {},
   "outputs": [],
   "source": [
    "# test(method='bbsnet') "
   ]
  }
 ],
 "metadata": {
  "kernelspec": {
   "display_name": "pytorch",
   "language": "python",
   "name": "python3"
  },
  "language_info": {
   "codemirror_mode": {
    "name": "ipython",
    "version": 3
   },
   "file_extension": ".py",
   "mimetype": "text/x-python",
   "name": "python",
   "nbconvert_exporter": "python",
   "pygments_lexer": "ipython3",
   "version": "3.12.9"
  }
 },
 "nbformat": 4,
 "nbformat_minor": 5
}
