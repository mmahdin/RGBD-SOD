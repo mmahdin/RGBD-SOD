{
 "cells": [
  {
   "cell_type": "code",
   "execution_count": 1,
   "id": "d5676db7",
   "metadata": {},
   "outputs": [
    {
     "name": "stderr",
     "output_type": "stream",
     "text": [
      "/home/mahdi/Documents/pytorch/lib/python3.12/site-packages/tqdm/auto.py:21: TqdmWarning: IProgress not found. Please update jupyter and ipywidgets. See https://ipywidgets.readthedocs.io/en/stable/user_install.html\n",
      "  from .autonotebook import tqdm as notebook_tqdm\n",
      "/home/mahdi/Documents/pytorch/lib/python3.12/site-packages/timm/models/layers/__init__.py:48: FutureWarning: Importing from timm.models.layers is deprecated, please import via timm.layers\n",
      "  warnings.warn(f\"Importing from {__name__} is deprecated, please import via timm.layers\", FutureWarning)\n"
     ]
    }
   ],
   "source": [
    "import sys\n",
    "sys.path.append('./models')\n",
    "from models.BBSNet_model import BBSNetTransformerAttention\n",
    "from models.BBSNet_model import BBSNetChannelSpatialAttention\n",
    "from BBSNet_train import setup_gpu, get_model, get_data, main\n",
    "from BBSNet_test import test\n",
    "from utils import evaluate, draw_curve\n",
    "\n",
    "%load_ext autoreload\n",
    "%autoreload 2"
   ]
  },
  {
   "cell_type": "markdown",
   "id": "65abbfcb",
   "metadata": {},
   "source": [
    "# Train"
   ]
  },
  {
   "cell_type": "code",
   "execution_count": 2,
   "id": "d70c7f25",
   "metadata": {},
   "outputs": [
    {
     "name": "stdout",
     "output_type": "stream",
     "text": [
      "USE GPU 0\n",
      "load data...\n",
      "Start train...\n",
      "2025-08-26 23:41:26.802297 Epoch [001/002], Step [0001/0728], Loss1: 0.7389 Loss2: 0.7541\n",
      "2025-08-26 23:41:54.502830 Epoch [001/002], Step [0100/0728], Loss1: 0.2960 Loss2: 0.2983\n",
      "2025-08-26 23:42:22.612252 Epoch [001/002], Step [0200/0728], Loss1: 0.2718 Loss2: 0.3236\n",
      "2025-08-26 23:42:50.692443 Epoch [001/002], Step [0300/0728], Loss1: 0.6433 Loss2: 0.6144\n",
      "2025-08-26 23:43:18.810105 Epoch [001/002], Step [0400/0728], Loss1: 0.3989 Loss2: 0.3943\n",
      "2025-08-26 23:43:47.003044 Epoch [001/002], Step [0500/0728], Loss1: 0.3418 Loss2: 0.2351\n",
      "2025-08-26 23:44:15.076879 Epoch [001/002], Step [0600/0728], Loss1: 0.5280 Loss2: 0.2286\n",
      "2025-08-26 23:44:43.193961 Epoch [001/002], Step [0700/0728], Loss1: 0.2810 Loss2: 0.2392\n",
      "2025-08-26 23:44:51.143197 Epoch [001/002], Step [0728/0728], Loss1: 0.5336 Loss2: 0.2583\n",
      "Epoch: 1 MAE: 0.11311589181423187 ####  bestMAE: 1 bestEpoch: 0\n"
     ]
    }
   ],
   "source": [
    "setup_gpu()\n",
    "model, optimizer, CE = get_model()\n",
    "train_loader, test_loader, total_step = get_data()\n",
    "main(optimizer, model, train_loader, test_loader, CE, total_step)"
   ]
  },
  {
   "cell_type": "markdown",
   "id": "4772a51d",
   "metadata": {},
   "source": [
    "# Use Trained Model"
   ]
  },
  {
   "cell_type": "markdown",
   "id": "aeffa333",
   "metadata": {},
   "source": [
    "I save the model using this code:\n",
    "torch.save(model.state_dict(), save_path +\n",
    "                           'BBSNet_epoch_best.pth')\n",
    "\n",
    "Now, after a long training period, I want to use it on my test data. So, how can I load this model?"
   ]
  },
  {
   "cell_type": "code",
   "execution_count": 3,
   "id": "74f98bce",
   "metadata": {},
   "outputs": [
    {
     "name": "stderr",
     "output_type": "stream",
     "text": [
      "/home/mahdi/Documents/pytorch/lib/python3.12/site-packages/torch/functional.py:539: UserWarning: torch.meshgrid: in an upcoming release, it will be required to pass the indexing argument. (Triggered internally at /pytorch/aten/src/ATen/native/TensorShape.cpp:3637.)\n",
      "  return _VF.meshgrid(tensors, **kwargs)  # type: ignore[attr-defined]\n"
     ]
    },
    {
     "name": "stdout",
     "output_type": "stream",
     "text": [
      "Total parameters: 467247156\n",
      "Trainable parameters: 467247156\n",
      "Non-trainable parameters: 0\n"
     ]
    }
   ],
   "source": [
    "from models.BBSNet_model import BBSNetSwin\n",
    "\n",
    "model = BBSNetSwin()\n",
    "\n",
    "# assume your model is called `model`\n",
    "total_params = sum(p.numel() for p in model.parameters())\n",
    "trainable_params = sum(p.numel() for p in model.parameters() if p.requires_grad)\n",
    "\n",
    "print(f\"Total parameters: {total_params}\")\n",
    "print(f\"Trainable parameters: {trainable_params}\")\n",
    "print(f\"Non-trainable parameters: {total_params - trainable_params}\")\n"
   ]
  },
  {
   "cell_type": "code",
   "execution_count": 4,
   "id": "742812c3",
   "metadata": {},
   "outputs": [],
   "source": [
    "# test(method='bbsnet') "
   ]
  }
 ],
 "metadata": {
  "kernelspec": {
   "display_name": "pytorch",
   "language": "python",
   "name": "python3"
  },
  "language_info": {
   "codemirror_mode": {
    "name": "ipython",
    "version": 3
   },
   "file_extension": ".py",
   "mimetype": "text/x-python",
   "name": "python",
   "nbconvert_exporter": "python",
   "pygments_lexer": "ipython3",
   "version": "3.12.9"
  }
 },
 "nbformat": 4,
 "nbformat_minor": 5
}
