{
  "cells": [
    {
      "cell_type": "code",
      "execution_count": 1,
      "metadata": {
        "colab": {
          "base_uri": "https://localhost:8080/",
          "height": 53
        },
        "id": "j4LMv5UbDtWH",
        "outputId": "1f0f20c0-5d41-4131-9866-9d14535dfd57"
      },
      "outputs": [
        {
          "name": "stdout",
          "output_type": "stream",
          "text": [
            "Drive already mounted at /content/drive; to attempt to forcibly remount, call drive.mount(\"/content/drive\", force_remount=True).\n"
          ]
        },
        {
          "data": {
            "application/vnd.google.colaboratory.intrinsic+json": {
              "type": "string"
            },
            "text/plain": [
              "'/content/dataset/'"
            ]
          },
          "execution_count": 1,
          "metadata": {},
          "output_type": "execute_result"
        }
      ],
      "source": [
        "from google.colab import drive\n",
        "drive.mount('/content/drive')\n",
        "\n",
        "import sys\n",
        "base_path = '/content/drive/My Drive/sod'\n",
        "sys.path.append(base_path + '/BBS-Net')\n",
        "\n",
        "import shutil\n",
        "!mkdir -p /content/dataset\n",
        "cur_path = '/content/dataset/'\n",
        "shutil.copytree(base_path + '/dataset', cur_path, dirs_exist_ok=True)"
      ]
    },
    {
      "cell_type": "markdown",
      "metadata": {
        "id": "e94ypbPvJAo3"
      },
      "source": [
        "# Extract dataset"
      ]
    },
    {
      "cell_type": "code",
      "execution_count": null,
      "metadata": {
        "id": "2vmxHNGwGRVk"
      },
      "outputs": [],
      "source": [
        "import zipfile\n",
        "import os\n",
        "\n",
        "extract_to = cur_path\n",
        "\n",
        "zip_path = cur_path + 'test_in_train.zip'\n",
        "with zipfile.ZipFile(zip_path, 'r') as zip_ref:\n",
        "    zip_ref.extractall(extract_to)\n",
        "\n",
        "zip_path = cur_path + 'RGBD_for_train.zip'\n",
        "with zipfile.ZipFile(zip_path, 'r') as zip_ref:\n",
        "    zip_ref.extractall(extract_to)\n",
        "\n",
        "zip_path = cur_path + 'RGBD_for_test.zip'\n",
        "with zipfile.ZipFile(zip_path, 'r') as zip_ref:\n",
        "    zip_ref.extractall(extract_to)\n",
        "\n",
        "\n",
        "!rm -rf /content/dataset/test_in_train/GT/*\n",
        "!rm -rf /content/dataset/test_in_train/RGB/*\n",
        "!rm -rf /content/dataset/test_in_train/depth/*\n",
        "\n",
        "\n",
        "!cp -r /content/dataset/RGBD_for_test/NJU2K/GT/* /content/dataset/test_in_train/GT/\n",
        "!cp -r /content/dataset/RGBD_for_test/NJU2K/RGB/* /content/dataset/test_in_train/RGB/\n",
        "!cp -r /content/dataset/RGBD_for_test/NJU2K/depth/* /content/dataset/test_in_train/depth/\n",
        "\n",
        "# !cp -r /content/dataset/RGBD_for_test/NLPR/GT/* /content/dataset/test_in_train/GT/\n",
        "# !cp -r /content/dataset/RGBD_for_test/NLPR/RGB/* /content/dataset/test_in_train/RGB/\n",
        "# !cp -r /content/dataset/RGBD_for_test/NLPR/depth/* /content/dataset/test_in_train/depth/\n",
        "\n",
        "# !cp -r /content/dataset/RGBD_for_test/STERE/GT/* /content/dataset/test_in_train/GT/\n",
        "# !cp -r /content/dataset/RGBD_for_test/STERE/RGB/* /content/dataset/test_in_train/RGB/\n",
        "# !cp -r /content/dataset/RGBD_for_test/STERE/depth/* /content/dataset/test_in_train/depth/\n",
        "\n",
        "# !cp -r /content/dataset/RGBD_for_test/DES/GT/* /content/dataset/test_in_train/GT/\n",
        "# !cp -r /content/dataset/RGBD_for_test/DES/RGB/* /content/dataset/test_in_train/RGB/\n",
        "# !cp -r /content/dataset/RGBD_for_test/DES/depth/* /content/dataset/test_in_train/depth/\n",
        "\n",
        "# !cp -r /content/dataset/RGBD_for_test/LFSD/GT/* /content/dataset/test_in_train/GT/\n",
        "# !cp -r /content/dataset/RGBD_for_test/LFSD/RGB/* /content/dataset/test_in_train/RGB/\n",
        "# !cp -r /content/dataset/RGBD_for_test/LFSD/depth/* /content/dataset/test_in_train/depth/\n"
      ]
    },
    {
      "cell_type": "markdown",
      "metadata": {
        "id": "tURgLQdugHSA"
      },
      "source": [
        "Install dependencies"
      ]
    },
    {
      "cell_type": "code",
      "execution_count": 3,
      "metadata": {
        "colab": {
          "base_uri": "https://localhost:8080/"
        },
        "id": "zp0x4oEXgFTp",
        "outputId": "a9684d41-7fe9-4635-9106-c048bd30565d"
      },
      "outputs": [
        {
          "name": "stdout",
          "output_type": "stream",
          "text": [
            "Requirement already satisfied: tensorboardX in /usr/local/lib/python3.12/dist-packages (2.6.4)\n",
            "Requirement already satisfied: numpy in /usr/local/lib/python3.12/dist-packages (from tensorboardX) (2.0.2)\n",
            "Requirement already satisfied: packaging in /usr/local/lib/python3.12/dist-packages (from tensorboardX) (25.0)\n",
            "Requirement already satisfied: protobuf>=3.20 in /usr/local/lib/python3.12/dist-packages (from tensorboardX) (5.29.5)\n"
          ]
        }
      ],
      "source": [
        "!pip install tensorboardX"
      ]
    },
    {
      "cell_type": "code",
      "execution_count": 4,
      "metadata": {
        "colab": {
          "base_uri": "https://localhost:8080/"
        },
        "id": "U-VyeLsMdyPD",
        "outputId": "dd46b504-8569-4083-a865-d11624c67e81"
      },
      "outputs": [
        {
          "name": "stdout",
          "output_type": "stream",
          "text": [
            "USE GPU 0\n"
          ]
        },
        {
          "name": "stderr",
          "output_type": "stream",
          "text": [
            "/usr/local/lib/python3.12/dist-packages/torch/functional.py:554: UserWarning: torch.meshgrid: in an upcoming release, it will be required to pass the indexing argument. (Triggered internally at /pytorch/aten/src/ATen/native/TensorShape.cpp:4322.)\n",
            "  return _VF.meshgrid(tensors, **kwargs)  # type: ignore[attr-defined]\n"
          ]
        },
        {
          "name": "stdout",
          "output_type": "stream",
          "text": [
            "Loading data...\n"
          ]
        },
        {
          "name": "stderr",
          "output_type": "stream",
          "text": [
            "/usr/local/lib/python3.12/dist-packages/torch/utils/data/dataloader.py:627: UserWarning: This DataLoader will create 12 worker processes in total. Our suggested max number of worker in current system is 2, which is smaller than what this DataLoader is going to create. Please be aware that excessive worker creation might get DataLoader running slow or even freeze, lower the worker number to avoid potential slowness/freeze if necessary.\n",
            "  warnings.warn(\n"
          ]
        }
      ],
      "source": [
        "from javad import *"
      ]
    },
    {
      "cell_type": "code",
      "execution_count": null,
      "metadata": {
        "colab": {
          "base_uri": "https://localhost:8080/"
        },
        "id": "j7zUI4W2vyl5",
        "outputId": "471ae1cc-7b1d-4ec1-f14c-aa2840824c34"
      },
      "outputs": [
        {
          "name": "stdout",
          "output_type": "stream",
          "text": [
            "Start training...\n"
          ]
        },
        {
          "name": "stderr",
          "output_type": "stream",
          "text": [
            "/usr/local/lib/python3.12/dist-packages/torch/nn/_reduction.py:51: UserWarning: size_average and reduce args will be deprecated, please use reduction='mean' instead.\n",
            "  warnings.warn(warning.format(ret))\n"
          ]
        },
        {
          "name": "stdout",
          "output_type": "stream",
          "text": [
            "2025-09-01 08:24:10.420554 Epoch [001/200], Step [0001/0219], Loss1: 1.5437 Loss2: 1.5964\n",
            "2025-09-01 08:25:52.059114 Epoch [001/200], Step [0100/0219], Loss1: 0.6902 Loss2: 0.8153\n",
            "2025-09-01 08:27:34.003914 Epoch [001/200], Step [0200/0219], Loss1: 0.9226 Loss2: 0.8806\n",
            "2025-09-01 08:28:00.377328 Epoch [001/200], Step [0219/0219], Loss1: 1.0401 Loss2: 1.0095\n",
            "Epoch: 1 MAE: 0.17777618765830994 ####  bestMAE: 1 bestEpoch: 0\n",
            "2025-09-01 08:29:18.606771 Epoch [002/200], Step [0001/0219], Loss1: 1.0780 Loss2: 0.9349\n",
            "2025-09-01 08:31:01.050603 Epoch [002/200], Step [0100/0219], Loss1: 0.5834 Loss2: 0.5590\n"
          ]
        }
      ],
      "source": [
        "main()"
      ]
    }
  ],
  "metadata": {
    "accelerator": "GPU",
    "colab": {
      "gpuType": "T4",
      "provenance": []
    },
    "kernelspec": {
      "display_name": "Python 3",
      "name": "python3"
    },
    "language_info": {
      "name": "python"
    }
  },
  "nbformat": 4,
  "nbformat_minor": 0
}
